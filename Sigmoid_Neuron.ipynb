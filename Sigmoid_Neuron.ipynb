{
  "nbformat": 4,
  "nbformat_minor": 0,
  "metadata": {
    "colab": {
      "provenance": []
    },
    "kernelspec": {
      "name": "python3",
      "display_name": "Python 3"
    },
    "language_info": {
      "name": "python"
    },
    "widgets": {
      "application/vnd.jupyter.widget-state+json": {
        "294883065e3a417ca8c22a7f98651e84": {
          "model_module": "@jupyter-widgets/controls",
          "model_name": "VBoxModel",
          "model_module_version": "1.5.0",
          "state": {
            "_dom_classes": [
              "widget-interact"
            ],
            "_model_module": "@jupyter-widgets/controls",
            "_model_module_version": "1.5.0",
            "_model_name": "VBoxModel",
            "_view_count": null,
            "_view_module": "@jupyter-widgets/controls",
            "_view_module_version": "1.5.0",
            "_view_name": "VBoxView",
            "box_style": "",
            "children": [
              "IPY_MODEL_79b451fe741449b2b0b1629e6f74152f",
              "IPY_MODEL_a868864c87f049268958433d783d4c68",
              "IPY_MODEL_a5854d78eefe4d96b95bcb89dbaa3013"
            ],
            "layout": "IPY_MODEL_6f04de689b984dbdbf1b7a01b3f338ee"
          }
        },
        "79b451fe741449b2b0b1629e6f74152f": {
          "model_module": "@jupyter-widgets/controls",
          "model_name": "FloatSliderModel",
          "model_module_version": "1.5.0",
          "state": {
            "_dom_classes": [],
            "_model_module": "@jupyter-widgets/controls",
            "_model_module_version": "1.5.0",
            "_model_name": "FloatSliderModel",
            "_view_count": null,
            "_view_module": "@jupyter-widgets/controls",
            "_view_module_version": "1.5.0",
            "_view_name": "FloatSliderView",
            "continuous_update": true,
            "description": "w",
            "description_tooltip": null,
            "disabled": false,
            "layout": "IPY_MODEL_fcc54eb3826f415f88e74f8967cff09b",
            "max": 2,
            "min": -2,
            "orientation": "horizontal",
            "readout": true,
            "readout_format": ".2f",
            "step": 0.1,
            "style": "IPY_MODEL_2079c2be1d774e50bb04920813a3fa68",
            "value": 0
          }
        },
        "a868864c87f049268958433d783d4c68": {
          "model_module": "@jupyter-widgets/controls",
          "model_name": "FloatSliderModel",
          "model_module_version": "1.5.0",
          "state": {
            "_dom_classes": [],
            "_model_module": "@jupyter-widgets/controls",
            "_model_module_version": "1.5.0",
            "_model_name": "FloatSliderModel",
            "_view_count": null,
            "_view_module": "@jupyter-widgets/controls",
            "_view_module_version": "1.5.0",
            "_view_name": "FloatSliderView",
            "continuous_update": true,
            "description": "b",
            "description_tooltip": null,
            "disabled": false,
            "layout": "IPY_MODEL_4add23ced4444626b69f5653fdeefbc9",
            "max": 2,
            "min": -2,
            "orientation": "horizontal",
            "readout": true,
            "readout_format": ".2f",
            "step": 0.1,
            "style": "IPY_MODEL_958d17d14466412c9e422eedb2cc65cc",
            "value": 0
          }
        },
        "a5854d78eefe4d96b95bcb89dbaa3013": {
          "model_module": "@jupyter-widgets/output",
          "model_name": "OutputModel",
          "model_module_version": "1.0.0",
          "state": {
            "_dom_classes": [],
            "_model_module": "@jupyter-widgets/output",
            "_model_module_version": "1.0.0",
            "_model_name": "OutputModel",
            "_view_count": null,
            "_view_module": "@jupyter-widgets/output",
            "_view_module_version": "1.0.0",
            "_view_name": "OutputView",
            "layout": "IPY_MODEL_ec7194e13be84ca9ae0f3f4b60f4d3a2",
            "msg_id": "",
            "outputs": [
              {
                "output_type": "display_data",
                "data": {
                  "text/plain": "<Figure size 640x480 with 1 Axes>",
                  "image/png": "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\n"
                },
                "metadata": {}
              }
            ]
          }
        },
        "6f04de689b984dbdbf1b7a01b3f338ee": {
          "model_module": "@jupyter-widgets/base",
          "model_name": "LayoutModel",
          "model_module_version": "1.2.0",
          "state": {
            "_model_module": "@jupyter-widgets/base",
            "_model_module_version": "1.2.0",
            "_model_name": "LayoutModel",
            "_view_count": null,
            "_view_module": "@jupyter-widgets/base",
            "_view_module_version": "1.2.0",
            "_view_name": "LayoutView",
            "align_content": null,
            "align_items": null,
            "align_self": null,
            "border": null,
            "bottom": null,
            "display": null,
            "flex": null,
            "flex_flow": null,
            "grid_area": null,
            "grid_auto_columns": null,
            "grid_auto_flow": null,
            "grid_auto_rows": null,
            "grid_column": null,
            "grid_gap": null,
            "grid_row": null,
            "grid_template_areas": null,
            "grid_template_columns": null,
            "grid_template_rows": null,
            "height": null,
            "justify_content": null,
            "justify_items": null,
            "left": null,
            "margin": null,
            "max_height": null,
            "max_width": null,
            "min_height": null,
            "min_width": null,
            "object_fit": null,
            "object_position": null,
            "order": null,
            "overflow": null,
            "overflow_x": null,
            "overflow_y": null,
            "padding": null,
            "right": null,
            "top": null,
            "visibility": null,
            "width": null
          }
        },
        "fcc54eb3826f415f88e74f8967cff09b": {
          "model_module": "@jupyter-widgets/base",
          "model_name": "LayoutModel",
          "model_module_version": "1.2.0",
          "state": {
            "_model_module": "@jupyter-widgets/base",
            "_model_module_version": "1.2.0",
            "_model_name": "LayoutModel",
            "_view_count": null,
            "_view_module": "@jupyter-widgets/base",
            "_view_module_version": "1.2.0",
            "_view_name": "LayoutView",
            "align_content": null,
            "align_items": null,
            "align_self": null,
            "border": null,
            "bottom": null,
            "display": null,
            "flex": null,
            "flex_flow": null,
            "grid_area": null,
            "grid_auto_columns": null,
            "grid_auto_flow": null,
            "grid_auto_rows": null,
            "grid_column": null,
            "grid_gap": null,
            "grid_row": null,
            "grid_template_areas": null,
            "grid_template_columns": null,
            "grid_template_rows": null,
            "height": null,
            "justify_content": null,
            "justify_items": null,
            "left": null,
            "margin": null,
            "max_height": null,
            "max_width": null,
            "min_height": null,
            "min_width": null,
            "object_fit": null,
            "object_position": null,
            "order": null,
            "overflow": null,
            "overflow_x": null,
            "overflow_y": null,
            "padding": null,
            "right": null,
            "top": null,
            "visibility": null,
            "width": null
          }
        },
        "2079c2be1d774e50bb04920813a3fa68": {
          "model_module": "@jupyter-widgets/controls",
          "model_name": "SliderStyleModel",
          "model_module_version": "1.5.0",
          "state": {
            "_model_module": "@jupyter-widgets/controls",
            "_model_module_version": "1.5.0",
            "_model_name": "SliderStyleModel",
            "_view_count": null,
            "_view_module": "@jupyter-widgets/base",
            "_view_module_version": "1.2.0",
            "_view_name": "StyleView",
            "description_width": "",
            "handle_color": null
          }
        },
        "4add23ced4444626b69f5653fdeefbc9": {
          "model_module": "@jupyter-widgets/base",
          "model_name": "LayoutModel",
          "model_module_version": "1.2.0",
          "state": {
            "_model_module": "@jupyter-widgets/base",
            "_model_module_version": "1.2.0",
            "_model_name": "LayoutModel",
            "_view_count": null,
            "_view_module": "@jupyter-widgets/base",
            "_view_module_version": "1.2.0",
            "_view_name": "LayoutView",
            "align_content": null,
            "align_items": null,
            "align_self": null,
            "border": null,
            "bottom": null,
            "display": null,
            "flex": null,
            "flex_flow": null,
            "grid_area": null,
            "grid_auto_columns": null,
            "grid_auto_flow": null,
            "grid_auto_rows": null,
            "grid_column": null,
            "grid_gap": null,
            "grid_row": null,
            "grid_template_areas": null,
            "grid_template_columns": null,
            "grid_template_rows": null,
            "height": null,
            "justify_content": null,
            "justify_items": null,
            "left": null,
            "margin": null,
            "max_height": null,
            "max_width": null,
            "min_height": null,
            "min_width": null,
            "object_fit": null,
            "object_position": null,
            "order": null,
            "overflow": null,
            "overflow_x": null,
            "overflow_y": null,
            "padding": null,
            "right": null,
            "top": null,
            "visibility": null,
            "width": null
          }
        },
        "958d17d14466412c9e422eedb2cc65cc": {
          "model_module": "@jupyter-widgets/controls",
          "model_name": "SliderStyleModel",
          "model_module_version": "1.5.0",
          "state": {
            "_model_module": "@jupyter-widgets/controls",
            "_model_module_version": "1.5.0",
            "_model_name": "SliderStyleModel",
            "_view_count": null,
            "_view_module": "@jupyter-widgets/base",
            "_view_module_version": "1.2.0",
            "_view_name": "StyleView",
            "description_width": "",
            "handle_color": null
          }
        },
        "ec7194e13be84ca9ae0f3f4b60f4d3a2": {
          "model_module": "@jupyter-widgets/base",
          "model_name": "LayoutModel",
          "model_module_version": "1.2.0",
          "state": {
            "_model_module": "@jupyter-widgets/base",
            "_model_module_version": "1.2.0",
            "_model_name": "LayoutModel",
            "_view_count": null,
            "_view_module": "@jupyter-widgets/base",
            "_view_module_version": "1.2.0",
            "_view_name": "LayoutView",
            "align_content": null,
            "align_items": null,
            "align_self": null,
            "border": null,
            "bottom": null,
            "display": null,
            "flex": null,
            "flex_flow": null,
            "grid_area": null,
            "grid_auto_columns": null,
            "grid_auto_flow": null,
            "grid_auto_rows": null,
            "grid_column": null,
            "grid_gap": null,
            "grid_row": null,
            "grid_template_areas": null,
            "grid_template_columns": null,
            "grid_template_rows": null,
            "height": null,
            "justify_content": null,
            "justify_items": null,
            "left": null,
            "margin": null,
            "max_height": null,
            "max_width": null,
            "min_height": null,
            "min_width": null,
            "object_fit": null,
            "object_position": null,
            "order": null,
            "overflow": null,
            "overflow_x": null,
            "overflow_y": null,
            "padding": null,
            "right": null,
            "top": null,
            "visibility": null,
            "width": null
          }
        },
        "9b9b3beab1c0490c89dc51b2a36c0701": {
          "model_module": "@jupyter-widgets/controls",
          "model_name": "VBoxModel",
          "model_module_version": "1.5.0",
          "state": {
            "_dom_classes": [
              "widget-interact"
            ],
            "_model_module": "@jupyter-widgets/controls",
            "_model_module_version": "1.5.0",
            "_model_name": "VBoxModel",
            "_view_count": null,
            "_view_module": "@jupyter-widgets/controls",
            "_view_module_version": "1.5.0",
            "_view_name": "VBoxView",
            "box_style": "",
            "children": [
              "IPY_MODEL_07b056e48ff54efab1d2015be984db27",
              "IPY_MODEL_a103fa2104704360a1986c0f76fbcc4a",
              "IPY_MODEL_2a1fc750a7834b2284a62fe1893b86b0"
            ],
            "layout": "IPY_MODEL_f27b5bcb983441ad92ab26016bf33fdc"
          }
        },
        "07b056e48ff54efab1d2015be984db27": {
          "model_module": "@jupyter-widgets/controls",
          "model_name": "FloatSliderModel",
          "model_module_version": "1.5.0",
          "state": {
            "_dom_classes": [],
            "_model_module": "@jupyter-widgets/controls",
            "_model_module_version": "1.5.0",
            "_model_name": "FloatSliderModel",
            "_view_count": null,
            "_view_module": "@jupyter-widgets/controls",
            "_view_module_version": "1.5.0",
            "_view_name": "FloatSliderView",
            "continuous_update": true,
            "description": "w",
            "description_tooltip": null,
            "disabled": false,
            "layout": "IPY_MODEL_528c7f8cd7bd4ce9b0f76d7c10ecd9d5",
            "max": 2,
            "min": -2,
            "orientation": "horizontal",
            "readout": true,
            "readout_format": ".2f",
            "step": 0.1,
            "style": "IPY_MODEL_fd77a39fc2e9494182863eef539afb2c",
            "value": 0
          }
        },
        "a103fa2104704360a1986c0f76fbcc4a": {
          "model_module": "@jupyter-widgets/controls",
          "model_name": "FloatSliderModel",
          "model_module_version": "1.5.0",
          "state": {
            "_dom_classes": [],
            "_model_module": "@jupyter-widgets/controls",
            "_model_module_version": "1.5.0",
            "_model_name": "FloatSliderModel",
            "_view_count": null,
            "_view_module": "@jupyter-widgets/controls",
            "_view_module_version": "1.5.0",
            "_view_name": "FloatSliderView",
            "continuous_update": true,
            "description": "b",
            "description_tooltip": null,
            "disabled": false,
            "layout": "IPY_MODEL_9e8400b4b83a42a99ba076c50f1c17b8",
            "max": 2,
            "min": -2,
            "orientation": "horizontal",
            "readout": true,
            "readout_format": ".2f",
            "step": 0.1,
            "style": "IPY_MODEL_c7382ae10ffb4f53bf271d66bc5e6d23",
            "value": 0
          }
        },
        "2a1fc750a7834b2284a62fe1893b86b0": {
          "model_module": "@jupyter-widgets/output",
          "model_name": "OutputModel",
          "model_module_version": "1.0.0",
          "state": {
            "_dom_classes": [],
            "_model_module": "@jupyter-widgets/output",
            "_model_module_version": "1.0.0",
            "_model_name": "OutputModel",
            "_view_count": null,
            "_view_module": "@jupyter-widgets/output",
            "_view_module_version": "1.0.0",
            "_view_name": "OutputView",
            "layout": "IPY_MODEL_faa933084fb04757a5591c00bc36e321",
            "msg_id": "",
            "outputs": [
              {
                "output_type": "display_data",
                "data": {
                  "text/plain": "<Figure size 640x480 with 1 Axes>",
                  "image/png": "iVBORw0KGgoAAAANSUhEUgAAAkAAAAHHCAYAAABXx+fLAAAAOXRFWHRTb2Z0d2FyZQBNYXRwbG90bGliIHZlcnNpb24zLjguMCwgaHR0cHM6Ly9tYXRwbG90bGliLm9yZy81sbWrAAAACXBIWXMAAA9hAAAPYQGoP6dpAABJC0lEQVR4nO3dd3xUVf7/8fckpJBAQkkjARKK0iEIEoNSlEAEFSIqRVeKFAsR2djAXaoFBRZQlgX0J+BaVoRFZRXpnSAiRRABAemQ0AkSJCE5vz98ZL4MKSTDhJT7ej4eecCce+6Z87l3JnnnlonNGGMEAABgIW5FPQEAAIBbjQAEAAAshwAEAAAshwAEAAAshwAEAAAshwAEAAAshwAEAAAshwAEAAAshwAEAAAshwCEAouIiFCfPn2Kehp5mj17tmw2mw4ePHjDviWhHme1bdtWbdu2Lepp5FufPn0UERGR777lypUr3AmVcjabTaNGjSrqaQBFggAEux07dujRRx9VeHi4vL29FRYWpvbt22vKlClFPbViwWaz5fgVEhJSpPP65ZdfNGrUqHyFvZImNTVVo0aN0qpVq1w+dtu2bdWwYUOn1k1MTNSoUaN0/vx5106qECxcuLDYhZxr3z9ubm4KDQ1Vhw4dCmU/FyeF+XpGwZUp6gmgeEhMTNS9996r6tWra8CAAQoJCdGRI0f0/fff691339Xzzz9v77tnzx65uRXv7Pzkk0+qR48e8vLycum47du3V69evRzaypYt69LnKKhffvlFo0ePVtu2bbMdPVmyZEnRTMpJH3zwgTIzM+2PU1NTNXr0aEkqVkeyEhMTNXr0aPXp00cVKlQo6unkaeHChZo6dWqOIejy5csqU6ZofgxkvZeMMTpw4ID+9a9/6b777tO3336rjh07FsmcCltxfT1bFQEIkqQ333xT/v7+2rRpU7Zv6CdPnnR47OpQURjc3d3l7u7u8nFvv/12/eUvf3H5uIXF09OzqKdQIB4eHkU9hSKVmpoqHx+fW/Z83t7et+y5rnf9e+nhhx9W48aNNXny5JsOQJcuXZKvr+/NTrHEsFq9rlK8f43HLbN//341aNAgx99mg4KCHB7ndM3M9u3b1aZNG5UtW1ZVq1bVG2+8oVmzZmW7DiciIkIPPvigVq1apebNm6ts2bJq1KiR/ZDw/Pnz1ahRI3l7e6tZs2baunVrtvmsWLFCrVq1kq+vrypUqKAuXbpo165dDn1yugbIGKM33nhDVatWlY+Pj+69917t3LmzQNspL7ldvzJq1CjZbDaHNpvNpvj4eH311Vdq2LChvLy81KBBAy1atCjb+seOHVO/fv0UGhoqLy8v1ahRQ88++6zS0tI0e/ZsPfbYY5Kke++9135aIWt75nQN0MmTJ9WvXz8FBwfL29tbTZo00UcffeTQ5+DBg7LZbJowYYLef/991apVS15eXrrzzju1adOmPLfD+fPn5e7urvfee8/edvr0abm5ualy5coyxtjbn332WYdTiNduw4MHDyowMFCSNHr0aHtt1x/JOHbsmOLi4lSuXDkFBgbqpZdeUkZGRp5zzE1+9suoUaP08ssvS5Jq1Khhn9e1r7VPPvlEzZo1U9myZVWpUiX16NFDR44ccXiurFNwmzdvVuvWreXj46PXXntNkvT111/rgQcesO/zWrVq6fXXX8+xro0bN6pTp06qWLGifH191bhxY7377rv27Tl16lR7bVlf19abtT3nzZsnm82m1atXZ3uOGTNmyGaz6eeff7a37d69W48++qgqVaokb29vNW/eXAsWLCjI5nbQqFEjBQQE6MCBA5KktWvX6rHHHlP16tXl5eWlatWq6a9//asuX77ssF7WtWD79+9Xp06dVL58eT3xxBNOjXH48GE9+OCDKleunMLCwuzbbseOHbrvvvvk6+ur8PBwffbZZ9nmf/78eQ0ZMkTVqlWTl5eXateurXfeecd+RDM/r+f8bNOs722rV6/Wc889p6CgIFWtWlWSdPHiRQ0ZMkQRERHy8vJSUFCQ2rdvry1btji7W0o1jgBBkhQeHq4NGzbo559/LvB1EceOHbP/8B02bJh8fX31//7f/8v1SNG+ffv0+OOP6+mnn9Zf/vIXTZgwQQ899JCmT5+u1157Tc8995wkaezYserWrZvDKbdly5apY8eOqlmzpkaNGqXLly9rypQpuvvuu7Vly5Y8L6AdMWKE3njjDXXq1EmdOnXSli1b1KFDB6WlpeW71j/++EOnT592aCtfvrxTR8XWrVun+fPn67nnnlP58uX13nvv6ZFHHtHhw4dVuXJlSdLx48fVokULnT9/XgMHDlTdunV17NgxzZs3T6mpqWrdurUGDx6s9957T6+99prq1asnSfZ/r3f58mW1bdtW+/btU3x8vGrUqKG5c+eqT58+On/+vF544QWH/p999pkuXryop59+WjabTePGjVPXrl3122+/5Xq0pkKFCmrYsKHWrFmjwYMH22u12Ww6e/asfvnlFzVo0EDSnz+gWrVqleM4gYGBmjZtmp599lk9/PDD6tq1qySpcePG9j4ZGRmKjY1VVFSUJkyYoGXLlukf//iHatWqpWeffTa/u8LBjfZL165d9euvv+o///mPJk2apICAAPt8pT+Ppg4fPlzdunVT//79derUKU2ZMkWtW7fW1q1bHX7JOHPmjDp27KgePXroL3/5i4KDgyX9+UOuXLlySkhIULly5bRixQqNGDFCKSkpGj9+vH39pUuX6sEHH1SVKlX0wgsvKCQkRLt27dI333yjF154QU8//bSOHz+upUuX6uOPP86z7gceeEDlypXTF198oTZt2jgsmzNnjho0aGD/3rBz507dfffdCgsL09ChQ+Xr66svvvhCcXFx+u9//6uHH364wNv93LlzOnfunGrXri1Jmjt3rlJTU/Xss8+qcuXK+uGHHzRlyhQdPXpUc+fOdVj36tWrio2N1T333KMJEybYj6IVZIyMjAx17NhRrVu31rhx4/Tpp58qPj5evr6++tvf/qYnnnhCXbt21fTp09WrVy9FR0erRo0akv48ctemTRsdO3ZMTz/9tKpXr67ExEQNGzZMJ06c0OTJk2/4ei7oNn3uuecUGBioESNG6NKlS5KkZ555RvPmzVN8fLzq16+vM2fOaN26ddq1a5fuuOOOAu+TUs8AxpglS5YYd3d34+7ubqKjo80rr7xiFi9ebNLS0rL1DQ8PN71797Y/fv75543NZjNbt261t505c8ZUqlTJSDIHDhxwWFeSSUxMtLctXrzYSDJly5Y1hw4dsrfPmDHDSDIrV660t0VGRpqgoCBz5swZe9tPP/1k3NzcTK9evexts2bNcnjukydPGk9PT/PAAw+YzMxMe7/XXnvNSHKoJzeScvyaNWuWMcaY3r17m/Dw8GzrjRw50lz/VpNkPD09zb59+xzqkGSmTJlib+vVq5dxc3MzmzZtyjZuVh1z587Ntp2ytGnTxrRp08b+ePLkyUaS+eSTT+xtaWlpJjo62pQrV86kpKQYY4w5cOCAkWQqV65szp49a+/79ddfG0nmf//7X+4byhgzaNAgExwcbH+ckJBgWrdubYKCgsy0adOMMX++Rmw2m3n33Xft/a7fhqdOnTKSzMiRI7M9R+/evY0kM2bMGIf2pk2bmmbNmuU5P2P+3DYNGjRwaMvvfhk/fny217Yxxhw8eNC4u7ubN99806F9x44dpkyZMg7tbdq0MZLM9OnTs80tNTU1W9vTTz9tfHx8zB9//GGMMebq1aumRo0aJjw83Jw7d86h77Wv8UGDBmV7/V1b77XbtmfPniYoKMhcvXrV3nbixAnj5ubmsJ3btWtnGjVqZJ9L1nO2bNnS3HbbbTk+1/XP269fP3Pq1Clz8uRJs3HjRtOuXTsjyfzjH//IdRuMHTvW2Gw2h+8TWa+DoUOHZutf0DHeeuste9u5c+dM2bJljc1mM59//rm9fffu3dm22+uvv258fX3Nr7/+6vBcQ4cONe7u7ubw4cPGmLxfz/ndplnf2+655x6H/WSMMf7+/mbQoEHZxkbOOAUGSX9ekLhhwwZ17txZP/30k8aNG6fY2FiFhYXd8LD2okWLFB0drcjISHtbpUqV7Iehr1e/fn1FR0fbH0dFRUmS7rvvPlWvXj1b+2+//SZJOnHihLZt26Y+ffqoUqVK9n6NGzdW+/bttXDhwlznuGzZMqWlpen55593OAUwZMiQPGu7XpcuXbR06VKHr9jY2AKNkSUmJka1atWyP27cuLH8/Pzs9WZmZuqrr77SQw89pObNm2db//rTavmxcOFChYSEqGfPnvY2Dw8PDR48WL///nu20x/du3dXxYoV7Y+zjtZkzTE3rVq1UnJysvbs2SPpzyM9rVu3VqtWrbR27VpJfx5pMcbkegQov5555plsz32j+eXlRvslL/Pnz1dmZqa6deum06dP279CQkJ02223aeXKlQ79vby81Ldv32zjXHth/cWLF3X69Gm1atVKqamp2r17tyRp69atOnDggIYMGZLt1LUzrw3pz/198uRJh7uU5s2bp8zMTHXv3l2SdPbsWa1YsULdunWzz+306dM6c+aMYmNjtXfvXh07duyGz/Xhhx8qMDBQQUFBioqK0vr165WQkGB/T167DS5duqTTp0+rZcuWMsbkeGo8pyN+BR2jf//+9v9XqFBBderUka+vr7p162Zvr1OnjipUqODwepg7d65atWqlihUrOuz3mJgYZWRkaM2aNXluC2e26YABA7Jd51ihQgVt3LhRx48fz/P58CdOgcHuzjvv1Pz585WWlqaffvpJX375pSZNmqRHH31U27ZtU/369XNc79ChQw6BJkvWoezrXRtyJMnf31+SVK1atRzbz507Z38e6c9vQNerV6+eFi9enOvFgFnr3nbbbQ7tgYGBDj/gb6Rq1aqKiYnJd/+8XL8dJKlixYr2ek+dOqWUlBSnb9XOyaFDh3Tbbbdlu4sv65RZ1nbKbY5Z2yprjrnJCjVr165V1apVtXXrVr3xxhsKDAzUhAkT7Mv8/PzUpEkTp+vx9va2n3q6do43ml9ebrRf8rJ3714ZY7K9zrJcf9owLCwsxwvVd+7cqb///e9asWKFUlJSHJZduHBB0p/X7Uly6evj/vvvl7+/v+bMmaN27dpJ+vP0V2RkpG6//XZJf57CNsZo+PDhGj58eI7jnDx5UmFhYXk+V5cuXRQfHy+bzaby5curQYMGDu/dw4cPa8SIEVqwYEG2bZ+1DbKUKVPGfh3MtQoyRk6vJX9/f1WtWjVboPT393cYb+/evdq+fXu29bNcfyPJ9ZzZplmn3641btw49e7dW9WqVVOzZs3UqVMn9erVSzVr1szz+a2KAIRsPD09deedd+rOO+/U7bffrr59+2ru3LkaOXKkS8bP7e6s3NrNNRfNFme5/dad2wW5JaFeZ+cYGhqqGjVqaM2aNYqIiJAxRtHR0QoMDNQLL7ygQ4cOae3atWrZsuVNfaRCYdzpdzP7JTMzUzabTd99912O41z/wY05fYTC+fPn1aZNG/n5+WnMmDGqVauWvL29tWXLFr366qsOHxPgal5eXoqLi9OXX36pf/3rX0pOTtb69ev11ltv2ftkPf9LL72U69HP3H75uVZev0xkZGSoffv2Onv2rF599VXVrVtXvr6+OnbsmPr06ZNtG3h5eWV7HRV0jJv5vpSZman27dvrlVdeybFvVnjMjTPbNKfXTrdu3dSqVSt9+eWXWrJkicaPH6933nlH8+fPL7UfLXAzCEDIU9aplxMnTuTaJzw8XPv27cvWnlPbzQgPD5ck+2mVa+3evVsBAQG53gqate7evXsdfhs6derUTR0tuFbFihVz/GC864+q5FdgYKD8/Pwc7rzJSUFOd4SHh2v79u3KzMx0+IGRdVolazu5QqtWrbRmzRrVqFFDkZGRKl++vJo0aSJ/f38tWrRIW7ZssX8mSm6cPZVT2HKbV61atWSMUY0aNW74Qy83q1at0pkzZzR//ny1bt3a3p51d9S1zyVJP//8c55HJQu6Dbt3766PPvpIy5cv165du2SMsZ/+kmR//3h4eLjsaOj1duzYoV9//VUfffSRw+duLV269JaOkV+1atXS77//fsPtkdu+cOU2rVKlip577jk999xzOnnypO644w69+eabBKAccA0QJEkrV67M8TfcrOtqcjrtlCU2NlYbNmzQtm3b7G1nz57Vp59+6tI5VqlSRZGRkfroo48cgsbPP/+sJUuWqFOnTrmuGxMTIw8PD02ZMsWhzsmTJ7tsfrVq1dKFCxe0fft2e9uJEyf05ZdfOjWem5ub4uLi9L///U8//vhjtuVZdWSFvvx8KnGnTp2UlJSkOXPm2NuuXr2qKVOmqFy5ctnu/rkZrVq10sGDBzVnzhz7KTE3Nze1bNlSEydOVHp6+g2v/8m6m6e4feJybtu8a9eucnd31+jRo7O9n4wxOnPmzA3HzjricO36aWlp+te//uXQ74477lCNGjU0efLkbPO4dt2CvD6kP98rlSpV0pw5czRnzhy1aNHC4XRLUFCQ2rZtqxkzZuT4i9GpU6fy9Tx5yWkbGGPst/ffqjHyq1u3btqwYYMWL16cbdn58+d19epVSbm/nl2xTTMyMrKd1gsKClJoaKiuXLmS31IshSNAkCQ9//zzSk1N1cMPP6y6desqLS1NiYmJmjNnjiIiInK8UDPLK6+8ok8++UTt27fX888/b78Nvnr16jp79qxLf4sfP368OnbsqOjoaPXr189+G7y/v3+eH/ef9fkwY8eO1YMPPqhOnTpp69at+u677+y3Md+sHj166NVXX9XDDz+swYMHKzU1VdOmTdPtt9/u9OdwvPXWW1qyZInatGmjgQMHql69ejpx4oTmzp2rdevWqUKFCoqMjJS7u7veeecdXbhwQV5eXrrvvvuyfX6TJA0cOFAzZsxQnz59tHnzZkVERGjevHlav369Jk+erPLly9/sZrDLCjd79uxxOIXSunVrfffdd/bPFcpL2bJlVb9+fc2ZM0e33367KlWqpIYNG7r0uhdnNGvWTJL0t7/9TT169JCHh4ceeugh1apVS2+88YaGDRumgwcPKi4uTuXLl9eBAwf05ZdfauDAgXrppZfyHLtly5aqWLGievfurcGDB8tms+njjz/OFqjc3Nw0bdo0PfTQQ4qMjFTfvn1VpUoV7d69Wzt37rT/MM6a6+DBgxUbGyt3d3f16NEj1+f38PBQ165d9fnnn+vSpUv2a7auNXXqVN1zzz1q1KiRBgwYoJo1ayo5OVkbNmzQ0aNH9dNPPxVoe16vbt26qlWrll566SUdO3ZMfn5++u9//1ugo7WuGCO/Xn75ZS1YsEAPPvig+vTpo2bNmunSpUvasWOH5s2bp4MHDyogICDP1/PNbtOLFy+qatWqevTRR9WkSROVK1dOy5Yt06ZNm/SPf/zD5TWXCrfqdjMUb99995156qmnTN26dU25cuWMp6enqV27tnn++edNcnKyQ9/rb4M3xpitW7eaVq1aGS8vL1O1alUzduxY89577xlJJikpyWHdBx54INvzS8p2+2bWrdjjx493aF+2bJm5++67TdmyZY2fn5956KGHzC+//OLQ5/rb4I0xJiMjw4wePdpUqVLFlC1b1rRt29b8/PPPOdaTk5zmeL0lS5aYhg0bGk9PT1OnTh3zySef5HobfE5j5TSXQ4cOmV69epnAwEDj5eVlatasaQYNGmSuXLli7/PBBx+YmjVrGnd3d4db4q+/Dd4YY5KTk03fvn1NQECA8fT0NI0aNbLfyp8lt22fNfecbuPNSVBQkJHk8Bpat26dkWRatWqVrX9OHyWQmJhomjVrZjw9PR2eu3fv3sbX1zfbGDlt75zkdht8fvfL66+/bsLCwoybm1u219p///tfc8899xhfX1/j6+tr6tatawYNGmT27NmT5/NnWb9+vbnrrrtM2bJlTWhoqP1jKa7dt1nWrVtn2rdvb8qXL298fX1N48aNHW7Zv3r1qnn++edNYGCgsdlsDtsmt325dOlSI8nYbDZz5MiRHOe4f/9+06tXLxMSEmI8PDxMWFiYefDBB828efNy7H+t/LyXfvnlFxMTE2PKlStnAgICzIABA+wfSXDt6zW314ErxshtH+X0fezixYtm2LBhpnbt2sbT09MEBASYli1bmgkTJjh8nEhur2dj8rdNs763Xf/RGFeuXDEvv/yyadKkif210KRJE/Ovf/0rx20DY2zGFKMrLlGqDBkyRDNmzNDvv/9eKBerAgDgLK4Bgktc/9HyZ86c0ccff6x77rmH8AMAKHa4BgguER0drbZt26pevXpKTk7Whx9+qJSUlFw/0wIAgKJEAIJLdOrUSfPmzdP7778vm82mO+64Qx9++KHDbbwAABQXXAMEAAAsh2uAAACA5RCAAACA5XANUA4yMzN1/PhxlS9fvth+FD8AAHBkjNHFixcVGhp6w78zSADKwfHjx7P9ZXIAAFAyHDlyRFWrVs2zDwEoB1l/DuDIkSPy8/Nz6djp6elasmSJOnToIA8PD5eOXRxQX8lX2mukvpKvtNdIfc5LSUlRtWrV8vVnfQhAOcg67eXn51coAcjHx0d+fn6l9oVNfSVbaa+R+kq+0l4j9d28/Fy+wkXQAADAcghAAADAcghAAADAcghAAADAcghAAADAcghAAADAcghAAADAcghAAADAcghAAADAcghAAADAcghAAADAcghAAADAcghAAADAcghAAADAcghAAADAcghAAADAcghAAADAcghAAADAcghAAADAcghAAADAcghAAADAcghAAADAcghAAADAcghAAADAcghAAADAcghAAADAcghAAADAcghAAADAcghAAADAcghAAADAcghAAADAcghAAADAcghAAADAcghAAADAcghAAADAcghAAADAcghAAADAcghAAADAcghAAADAcghAAADAcghAAADAcghAAADAcghAAADAcopFAJo6daoiIiLk7e2tqKgo/fDDD7n2nT17tmw2m8OXt7e3fXl6erpeffVVNWrUSL6+vgoNDVWvXr10/PjxW1EKAAAoAYo8AM2ZM0cJCQkaOXKktmzZoiZNmig2NlYnT57MdR0/Pz+dOHHC/nXo0CH7stTUVG3ZskXDhw/Xli1bNH/+fO3Zs0edO3e+FeUAAIASoExRT2DixIkaMGCA+vbtK0maPn26vv32W82cOVNDhw7NcR2bzaaQkJAcl/n7+2vp0qUObf/85z/VokULHT58WNWrV3dtAQAAoMQp0iNAaWlp2rx5s2JiYuxtbm5uiomJ0YYNG3Jd7/fff1d4eLiqVaumLl26aOfOnXk+z4ULF2Sz2VShQgVXTR0AAJRgRXoE6PTp08rIyFBwcLBDe3BwsHbv3p3jOnXq1NHMmTPVuHFjXbhwQRMmTFDLli21c+dOVa1aNVv/P/74Q6+++qp69uwpPz+/HMe8cuWKrly5Yn+ckpIi6c/ridLT050tL0dZ47l63OKC+kq+0l4j9ZV8pb1G6rv5sfPDZowxLp9BPh0/flxhYWFKTExUdHS0vf2VV17R6tWrtXHjxhuOkZ6ernr16qlnz556/fXXsy175JFHdPToUa1atSrXADRq1CiNHj06W/tnn30mHx+fAlYFAACKQmpqqh5//HFduHAh15/5WYr0CFBAQIDc3d2VnJzs0J6cnJzrNT7X8/DwUNOmTbVv3z6H9vT0dHXr1k2HDh3SihUr8twQw4YNU0JCgv1xSkqKqlWrpg4dOtxwAxZUenq6li5dqvbt28vDw8OlYxcH1FfylfYaqa/kK+01Up/zss7g5EeRBiBPT081a9ZMy5cvV1xcnCQpMzNTy5cvV3x8fL7GyMjI0I4dO9SpUyd7W1b42bt3r1auXKnKlSvnOYaXl5e8vLyytXt4eBTai68wxy4OqK/kK+01Ul/JV9prpD7nxsyvIr8LLCEhQb1791bz5s3VokULTZ48WZcuXbLfFdarVy+FhYVp7NixkqQxY8borrvuUu3atXX+/HmNHz9ehw4dUv/+/SX9GX4effRRbdmyRd98840yMjKUlJQkSapUqZI8PT2LplAAAFBsFHkA6t69u06dOqURI0YoKSlJkZGRWrRokf3C6MOHD8vN7f9uVjt37pwGDBigpKQkVaxYUc2aNVNiYqLq168vSTp27JgWLFggSYqMjHR4rpUrV6pt27a3pC4AAFB8FXkAkqT4+PhcT3mtWrXK4fGkSZM0adKkXMeKiIhQEV7XDQAASoAi/yRoAACAW40ABAAALIcABAAALIcABAAALIcABAAALIcABAAALIcABAAALIcABAAALIcABAAALIcABAAALIcABAAALIcABAAALIcABAAALIcABAAALIcABAAALIcABAAALIcABAAALIcABAAALIcABAAALIcABAAALIcABAAALIcABAAALIcABAAALIcABAAALIcABAAALIcABAAALIcABAAALIcABAAALIcABAAALIcABAAALIcABAAALIcABAAALIcABAAALIcABAAALIcABAAALIcABAAALIcABAAALIcABAAALIcABAAALIcABAAALIcABAAALIcABAAALIcABAAALIcABAAALIcABAAALIcABAAALIcABAAALIcABAAALIcABAAALIcABAAALIcABAAALIcABAAALIcABAAALIcABAAALIcABAAALIcABAAALKfIA9DUqVMVEREhb29vRUVF6Ycffsi17+zZs2Wz2Ry+vL29HfrMnz9fHTp0UOXKlWWz2bRt27ZCrgAAAJQ0RRqA5syZo4SEBI0cOVJbtmxRkyZNFBsbq5MnT+a6jp+fn06cOGH/OnTokMPyS5cu6Z577tE777xT2NMHAAAlVJmifPKJEydqwIAB6tu3ryRp+vTp+vbbbzVz5kwNHTo0x3VsNptCQkJyHfPJJ5+UJB08eNDl8wUAAKVDkR0BSktL0+bNmxUTE/N/k3FzU0xMjDZs2JDrer///rvCw8NVrVo1denSRTt37rwV0wUAAKVIkR0BOn36tDIyMhQcHOzQHhwcrN27d+e4Tp06dTRz5kw1btxYFy5c0IQJE9SyZUvt3LlTVatWdXouV65c0ZUrV+yPU1JSJEnp6elKT093etycZI3n6nGLC+or+Up7jdRX8pX2Gqnv5sfOD5sxxrh8Bvlw/PhxhYWFKTExUdHR0fb2V155RatXr9bGjRtvOEZ6errq1aunnj176vXXX3dYdvDgQdWoUUNbt25VZGRknuOMGjVKo0ePztb+2WefycfHJ38FAQCAIpWamqrHH39cFy5ckJ+fX559i+wIUEBAgNzd3ZWcnOzQnpycnOc1Ptfy8PBQ06ZNtW/fvpuay7Bhw5SQkGB/nJKSomrVqqlDhw433IAFlZ6erqVLl6p9+/by8PBw6djFAfWVfKW9Ruor+Up7jdTnvKwzOPlRZAHI09NTzZo10/LlyxUXFydJyszM1PLlyxUfH5+vMTIyMrRjxw516tTppubi5eUlLy+vbO0eHh6F9uIrzLGLA+or+Up7jdRX8pX2GqnPuTHzq0jvAktISFDv3r3VvHlztWjRQpMnT9alS5fsd4X16tVLYWFhGjt2rCRpzJgxuuuuu1S7dm2dP39e48eP16FDh9S/f3/7mGfPntXhw4d1/PhxSdKePXskSSEhIfk+sgQAAEq3Ig1A3bt316lTpzRixAglJSUpMjJSixYtsl8YffjwYbm5/d+NaufOndOAAQOUlJSkihUrqlmzZkpMTFT9+vXtfRYsWGAPUJLUo0cPSdLIkSM1atSoW1MYAAAo1oo0AElSfHx8rqe8Vq1a5fB40qRJmjRpUp7j9enTR3369HHR7AAAQGlU5H8KAwAA4FYjAAEAAMshAAEAAMshAAEAAMshAAEAAMshAAEAAMshAAEAAMshAAEAAMshAAEAAMshAAEAAMshAAEAAMshAAEAAMshAAEAAMshAAEAAMshAAEAAMshAAEAAMshAAEAAMshAAEAAMshAAEAAMshAAEAAMshAAEAAMshAAEAAMshAAEAAMshAAEAAMshAAEAAMshAAEAAMsp4+yK6enpSkpKUmpqqgIDA1WpUiVXzgsAAKDQFOgI0MWLFzVt2jS1adNGfn5+ioiIUL169RQYGKjw8HANGDBAmzZtKqy5AgAAuES+A9DEiRMVERGhWbNmKSYmRl999ZW2bdumX3/9VRs2bNDIkSN19epVdejQQffff7/27t1bmPMGAABwWr5PgW3atElr1qxRgwYNclzeokULPfXUU5o+fbpmzZqltWvX6rbbbnPZRAEAAFwl3wHoP//5T776eXl56ZlnnnF6QgAAAIXNqbvATp06leuyHTt2OD0ZAACAW8GpANSoUSN9++232donTJigFi1a3PSkAAAACpNTASghIUGPPPKInn32WV2+fFnHjh1Tu3btNG7cOH322WeuniMAAIBLORWAXnnlFW3YsEFr165V48aN1bhxY3l5eWn79u16+OGHXT1HAAAAl3L6k6Br166thg0b6uDBg0pJSVH37t0VEhLiyrkBAAAUCqcC0Pr169W4cWPt3btX27dv17Rp0/T888+re/fuOnfunKvnCAAA4FJOBaD77rtP3bt31/fff6969eqpf//+2rp1qw4fPqxGjRq5eo4AAAAu5dTfAluyZInatGnj0FarVi2tX79eb775pksmBgAAUFicOgJ0ffixD+bmpuHDh9/UhAAAAApbvgPQ559/nu9Bjxw5ovXr1zs1IQAAgMKW7wA0bdo01atXT+PGjdOuXbuyLb9w4YIWLlyoxx9/XHfccYfOnDnj0okCAAC4Sr6vAVq9erUWLFigKVOmaNiwYfL19VVwcLC8vb117tw5JSUlKSAgQH369NHPP/+s4ODgwpw3AACA0wp0EXTnzp3VuXNnnT59WuvWrdOhQ4d0+fJlBQQEqGnTpmratKnc3Jz+aCEAAIBbwqm7wAICAhQXF+fiqQAAANwaHK4BAACWk+8jQBUrVpTNZstX37Nnzzo9IQAAgMKW7wA0efJk+//PnDmjN954Q7GxsYqOjpYkbdiwQYsXL+ZzgAAAQLGX7wDUu3dv+/8feeQRjRkzRvHx8fa2wYMH65///KeWLVumv/71r66dJQAAgAs5dQ3Q4sWLdf/992drv//++7Vs2bKbnhQAAEBhcioAVa5cWV9//XW29q+//lqVK1e+6UkBAAAUJqdugx89erT69++vVatWKSoqSpK0ceNGLVq0SB988IFLJwgAAOBqTgWgPn36qF69enrvvfc0f/58SVK9evW0bt06eyACAAAorpwKQJIUFRWlTz/91JVzAQAAuCXyHYBSUlLk5+dn/39esvoBAAAURwX6IMQTJ04oKChIFSpUyPFDEY0xstlsysjIcOkkAQAAXCnfAWjFihWqVKmSJGnlypWFNiEAAIDClu/b4Nu0aaMyZcrY/5/XV0FNnTpVERER8vb2VlRUlH744Ydc+86ePVs2m83hy9vb26GPMUYjRoxQlSpVVLZsWcXExGjv3r0FnhcAACidnL4I+vz58/rwww+1a9cuSVKDBg301FNPyd/fv0DjzJkzRwkJCZo+fbqioqI0efJkxcbGas+ePQoKCspxHT8/P+3Zs8f++PrTcePGjdN7772njz76SDVq1NDw4cMVGxurX375JVtYAgAA1uNUAPrxxx8VGxursmXLqkWLFpKkiRMn6s0339SSJUt0xx135HusiRMnasCAAerbt68kafr06fr22281c+ZMDR06NMd1bDabQkJCclxmjNHkyZP197//XV26dJEk/fvf/1ZwcLC++uor9ejRoyClupQxRqlpV3UlQ0pNuyoPk78/LluSpKdTX0lX2mukvpKvtNdolfqMMUU6D5txYgatWrVS7dq19cEHH9hPi129elX9+/fXb7/9pjVr1uRrnLS0NPn4+GjevHmKi4uzt/fu3Vvnz5/P8dOmZ8+erf79+yssLEyZmZm644479NZbb6lBgwaSpN9++021atXS1q1bFRkZaV+vTZs2ioyM1LvvvpttzCtXrujKlSv2xykpKapWrZpOnz7t0jvaUtOuqsnrK1w2HgAAJdWPQ1vL39e1Z2VSUlIUEBCgCxcu3PDnt9NHgK4NP5JUpkwZvfLKK2revHm+xzl9+rQyMjIUHBzs0B4cHKzdu3fnuE6dOnU0c+ZMNW7cWBcuXNCECRPUsmVL7dy5U1WrVlVSUpJ9jOvHzFp2vbFjx2r06NHZ2pcsWSIfH59813MjVzKkmzjrCABAqbFixQp5ubt2zNTU1Hz3deqnsZ+fnw4fPqy6des6tB85ckTly5d3Zsh8i46OVnR0tP1xy5YtVa9ePc2YMUOvv/66U2MOGzZMCQkJ9sdZR4A6dOjg0iNAxhjdd98VrVixQvfdd588PEpfGEpPv0p9JVxpr5H6Sr7SXqNV6nsgNkaenp4uHftGn1N4Lae2bPfu3dWvXz/70RdJWr9+vV5++WX17Nkz3+MEBATI3d1dycnJDu3Jycm5XuNzPQ8PDzVt2lT79u2TJPt6ycnJqlKlisOY154Su5aXl5e8vLxyHNvDwyNf88gvf5tNXu6Sv6+3y8cuDtLT06mvhCvtNVJfyVfaa7RKfZ6eni6vryDjOfXX4CdMmKCuXbuqV69eioiIUEREhPr06aNHH31U77zzTr7H8fT0VLNmzbR8+XJ7W2ZmppYvX+5wlCcvGRkZ2rFjhz3s1KhRQyEhIQ5jpqSkaOPGjfkeEwAAlG5OHQHy9PTUu+++q7Fjx2r//v2SpFq1ajl1vUxCQoJ69+6t5s2bq0WLFpo8ebIuXbpkvyusV69eCgsL09ixYyVJY8aM0V133aXatWvr/PnzGj9+vA4dOqT+/ftL+vMOsSFDhuiNN97QbbfdZr8NPjQ01OFCawAAYF03dXLRx8dHjRo1uqkJdO/eXadOndKIESOUlJSkyMhILVq0yH4R8+HDh+Xm9n8Hqs6dO6cBAwYoKSlJFStWVLNmzZSYmKj69evb+7zyyiu6dOmSBg4cqPPnz+uee+7RokWL+AwgAAAgyckA9Mcff2jKlClauXKlTp48qczMTIflW7ZsKdB48fHxio+Pz3HZqlWrHB5PmjRJkyZNynM8m82mMWPGaMyYMQWaBwAAsAanAlC/fv20ZMkSPfroo2rRokWOfxgVAACguHIqAH3zzTdauHCh7r77blfPBwAAoNA5dRdYWFhYoX/eDwAAQGFxKgD94x//0KuvvqpDhw65ej4AAACFzqlTYM2bN9cff/yhmjVrysfHJ9sHD509e9YlkwMAACgMTgWgnj176tixY3rrrbcUHBzMRdAAAKBEcSoAJSYmasOGDWrSpImr5wMAAFDonLoGqG7durp8+bKr5wIAAHBLOBWA3n77bb344otatWqVzpw5o5SUFIcvAACA4sypU2D333+/JKldu3YO7cYY2Ww2ZWRk3PzMAAAAColTAWjlypWungcAAMAt41QAatOmjavnAQAAcMs4FYC2b9+eY7vNZpO3t7eqV68uLy+vm5oYAABAYXEqAEVGRub52T8eHh7q3r27ZsyYIW9vb6cnBwAAUBicugvsyy+/1G233ab3339f27Zt07Zt2/T++++rTp06+uyzz/Thhx9qxYoV+vvf/+7q+QIAANw0p44Avfnmm3r33XcVGxtrb2vUqJGqVq2q4cOH64cffpCvr69efPFFTZgwwWWTBQAAcAWnjgDt2LFD4eHh2drDw8O1Y8cOSX+eJjtx4sTNzQ4AAKAQOP1J0G+//bbS0tLsbenp6Xr77bdVt25dSdKxY8cUHBzsmlkCAAC4kFOnwKZOnarOnTuratWqaty4saQ/jwplZGTom2++kST99ttveu6551w3UwAAABdxKgC1bNlSBw4c0Keffqpff/1VkvTYY4/p8ccfV/ny5SVJTz75pOtmCQAA4EJOBSBJKl++vJ555hlXzgUAAOCWyHcAWrBggTp27CgPDw8tWLAgz76dO3e+6YkBAAAUlnwHoLi4OCUlJSkoKEhxcXG59uOPoQIAgOIu3wEoMzMzx/8DAACUNAW6DX7Dhg32u7yy/Pvf/1aNGjUUFBSkgQMH6sqVKy6dIAAAgKsVKACNGTNGO3futD/esWOH+vXrp5iYGA0dOlT/+9//NHbsWJdPEgAAwJUKFIC2bdumdu3a2R9//vnnioqK0gcffKCEhAS99957+uKLL1w+SQAAAFcqUAA6d+6cw6c7r169Wh07drQ/vvPOO3XkyBHXzQ4AAKAQFCgABQcH68CBA5KktLQ0bdmyRXfddZd9+cWLF+Xh4eHaGQIAALhYgQJQp06dNHToUK1du1bDhg2Tj4+PWrVqZV++fft21apVy+WTBAAAcKUCfRL066+/rq5du6pNmzYqV66cPvroI3l6etqXz5w5Ux06dHD5JAEAAFypQAEoICBAa9as0YULF1SuXDm5u7s7LJ87d67KlSvn0gkCAAC4mlN/C8zf3z/H9kqVKt3UZAAAAG6FAl0DBAAAUBoQgAAAgOUQgAAAgOUQgAAAgOUQgAAAgOUQgAAAgOUQgAAAgOUQgAAAgOUQgAAAgOUQgAAAgOUQgAAAgOUQgAAAgOUQgAAAgOUQgAAAgOUQgAAAgOUQgAAAgOUQgAAAgOUQgAAAgOUQgAAAgOUQgAAAgOUQgAAAgOUQgAAAgOUQgAAAgOUUeQCaOnWqIiIi5O3traioKP3www/5Wu/zzz+XzWZTXFycQ3tycrL69Omj0NBQ+fj46P7779fevXsLYeYAAKCkKtIANGfOHCUkJGjkyJHasmWLmjRpotjYWJ08eTLP9Q4ePKiXXnpJrVq1cmg3xiguLk6//fabvv76a23dulXh4eGKiYnRpUuXCrMUAABQghRpAJo4caIGDBigvn37qn79+po+fbp8fHw0c+bMXNfJyMjQE088odGjR6tmzZoOy/bu3avvv/9e06ZN05133qk6depo2rRpunz5sv7zn/8UdjkAAKCEKFNUT5yWlqbNmzdr2LBh9jY3NzfFxMRow4YNua43ZswYBQUFqV+/flq7dq3DsitXrkiSvL29Hcb08vLSunXr1L9//xzHvHLlin1dSUpJSZEkpaenKz09veDF5SFrPFePW1xQX8lX2mukvpKvtNdIfTc/dn4UWQA6ffq0MjIyFBwc7NAeHBys3bt357jOunXr9OGHH2rbtm05Lq9bt66qV6+uYcOGacaMGfL19dWkSZN09OhRnThxIte5jB07VqNHj87WvmTJEvn4+OS/qAJYunRpoYxbXFBfyVfaa6S+kq+010h9BZeamprvvkUWgArq4sWLevLJJ/XBBx8oICAgxz4eHh6aP3+++vXrp0qVKsnd3V0xMTHq2LGjjDG5jj1s2DAlJCTYH6ekpKhatWrq0KGD/Pz8XFpHenq6li5dqvbt28vDw8OlYxcH1FfylfYaqa/kK+01Up/zss7g5EeRBaCAgAC5u7srOTnZoT05OVkhISHZ+u/fv18HDx7UQw89ZG/LzMyUJJUpU0Z79uxRrVq11KxZM23btk0XLlxQWlqaAgMDFRUVpebNm+c6Fy8vL3l5eWVr9/DwKLQXX2GOXRxQX8lX2mukvpKvtNdIfc6NmV9FdhG0p6enmjVrpuXLl9vbMjMztXz5ckVHR2frX7duXe3YsUPbtm2zf3Xu3Fn33nuvtm3bpmrVqjn09/f3V2BgoPbu3asff/xRXbp0KfSaAABAyVCkp8ASEhLUu3dvNW/eXC1atNDkyZN16dIl9e3bV5LUq1cvhYWFaezYsfL29lbDhg0d1q9QoYIkObTPnTtXgYGBql69unbs2KEXXnhBcXFx6tChwy2rCwAAFG9FGoC6d++uU6dOacSIEUpKSlJkZKQWLVpkvzD68OHDcnMr2EGqEydOKCEhQcnJyapSpYp69eql4cOHF8b0AQBACVXkF0HHx8crPj4+x2WrVq3Kc93Zs2dnaxs8eLAGDx7sgpkBAIDSqsj/FAYAAMCtRgACAACWQwACAACWQwACAACWQwACAACWQwACAACWQwACAACWQwACAACWQwACAACWQwACAACWQwACAACWQwACAACWQwACAACWQwACAACWQwACAACWQwACAACWQwACAACWQwACAACWQwACAACWQwACAACWQwACAACWQwACAACWQwACAACWQwACAACWQwACAACWQwACAACWQwACAACWQwACAACWQwACAACWQwACAACWQwACAACWQwACAACWQwACAACWQwACAACWQwACAACWQwACAACWQwACAACWQwACAACWQwACAACWQwACAACWQwACAACWQwACAACWQwACAACWQwACAACWQwACAACWQwACAACWQwACAACWQwACAACWQwACAACWQwACAACWQwACAACWQwACAACWQwACAACWQwACAACWQwACAACWQwACAACWU+QBaOrUqYqIiJC3t7eioqL0ww8/5Gu9zz//XDabTXFxcQ7tv//+u+Lj41W1alWVLVtW9evX1/Tp0wth5gAAoKQq0gA0Z84cJSQkaOTIkdqyZYuaNGmi2NhYnTx5Ms/1Dh48qJdeekmtWrXKtiwhIUGLFi3SJ598ol27dmnIkCGKj4/XggULCqsMAABQwhRpAJo4caIGDBigvn372o/U+Pj4aObMmbmuk5GRoSeeeEKjR49WzZo1sy1PTExU79691bZtW0VERGjgwIFq0qRJvo8sAQCA0q9MUT1xWlqaNm/erGHDhtnb3NzcFBMTow0bNuS63pgxYxQUFKR+/fpp7dq12Za3bNlSCxYs0FNPPaXQ0FCtWrVKv/76qyZNmpTrmFeuXNGVK1fsj1NSUiRJ6enpSk9Pd6a8XGWN5+pxiwvqK/lKe43UV/KV9hqp7+bHzo8iC0CnT59WRkaGgoODHdqDg4O1e/fuHNdZt26dPvzwQ23bti3XcadMmaKBAweqatWqKlOmjNzc3PTBBx+odevWua4zduxYjR49Olv7kiVL5OPjk7+CCmjp0qWFMm5xQX0lX2mvkfpKvtJeI/UVXGpqar77FlkAKqiLFy/qySef1AcffKCAgIBc+02ZMkXff/+9FixYoPDwcK1Zs0aDBg1SaGioYmJiclxn2LBhSkhIsD9OSUlRtWrV1KFDB/n5+bm0jvT0dC1dulTt27eXh4eHS8cuDqiv5CvtNVJfyVfaa6Q+52WdwcmPIgtAAQEBcnd3V3JyskN7cnKyQkJCsvXfv3+/Dh48qIceesjelpmZKUkqU6aM9uzZo9DQUL322mv68ssv9cADD0iSGjdurG3btmnChAm5BiAvLy95eXlla/fw8Ci0F19hjl0cUF/JV9prpL6Sr7TXSH3OjZlfRXYRtKenp5o1a6bly5fb2zIzM7V8+XJFR0dn61+3bl3t2LFD27Zts3917txZ9957r7Zt26Zq1arZr9lxc3Msy93d3R6WAAAAivQUWEJCgnr37q3mzZurRYsWmjx5si5duqS+fftKknr16qWwsDCNHTtW3t7eatiwocP6FSpUkCR7u6enp9q0aaOXX35ZZcuWVXh4uFavXq1///vfmjhx4i2tDQAAFF9FGoC6d++uU6dOacSIEUpKSlJkZKQWLVpkvzD68OHD2Y7m3Mjnn3+uYcOG6YknntDZs2cVHh6uN998U88880xhlAAAAEqgIr8IOj4+XvHx8TkuW7VqVZ7rzp49O1tbSEiIZs2a5YKZAQCA0qrI/xQGAADArUYAAgAAlkMAAgAAlkMAAgAAlkMAAgAAlkMAAgAAlkMAAgAAlkMAAgAAlkMAAgAAlkMAAgAAlkMAAgAAlkMAAgAAlkMAAgAAlkMAAgAAlkMAAgAAlkMAAgAAlkMAAgAAlkMAAgAAlkMAAgAAlkMAAgAAlkMAAgAAlkMAAgAAlkMAAgAAlkMAAgAAlkMAAgAAlkMAAgAAlkMAAgAAlkMAAgAAlkMAAgAAlkMAAgAAlkMAAgAAlkMAAgAAlkMAAgAAlkMAAgAAlkMAAgAAlkMAAgAAlkMAAgAAlkMAAgAAlkMAAgAAlkMAAgAAlkMAAgAAlkMAAgAAlkMAAgAAllOmqCdQHBljJEkpKSkuHzs9PV2pqalKSUmRh4eHy8cvatRX8pX2Gqmv5CvtNVKf87J+bmf9HM8LASgHFy9elCRVq1atiGcCAAAK6uLFi/L398+zj83kJyZZTGZmpo4fP67y5cvLZrO5dOyUlBRVq1ZNR44ckZ+fn0vHLg6or+Qr7TVSX8lX2mukPucZY3Tx4kWFhobKzS3vq3w4ApQDNzc3Va1atVCfw8/Pr1S+sLNQX8lX2mukvpKvtNdIfc650ZGfLFwEDQAALIcABAAALIcAdIt5eXlp5MiR8vLyKuqpFArqK/lKe43UV/KV9hqp79bgImgAAGA5HAECAACWQwACAACWQwACAACWQwACAACWQwBysTfffFMtW7aUj4+PKlSokGOfw4cP64EHHpCPj4+CgoL08ssv6+rVq3mOe/bsWT3xxBPy8/NThQoV1K9fP/3++++FUEHBrFq1SjabLcevTZs25bpe27Zts/V/5plnbuHM8y8iIiLbXN9+++081/njjz80aNAgVa5cWeXKldMjjzyi5OTkWzTj/Dt48KD69eunGjVqqGzZsqpVq5ZGjhyptLS0PNcr7vtv6tSpioiIkLe3t6KiovTDDz/k2X/u3LmqW7euvL291ahRIy1cuPAWzbRgxo4dqzvvvFPly5dXUFCQ4uLitGfPnjzXmT17drZ95e3tfYtmXHCjRo3KNt+6devmuU5J2X9Szt9PbDabBg0alGP/krD/1qxZo4ceekihoaGy2Wz66quvHJYbYzRixAhVqVJFZcuWVUxMjPbu3XvDcQv6Pi4oApCLpaWl6bHHHtOzzz6b4/KMjAw98MADSktLU2Jioj766CPNnj1bI0aMyHPcJ554Qjt37tTSpUv1zTffaM2aNRo4cGBhlFAgLVu21IkTJxy++vfvrxo1aqh58+Z5rjtgwACH9caNG3eLZl1wY8aMcZjr888/n2f/v/71r/rf//6nuXPnavXq1Tp+/Li6du16i2abf7t371ZmZqZmzJihnTt3atKkSZo+fbpee+21G65bXPffnDlzlJCQoJEjR2rLli1q0qSJYmNjdfLkyRz7JyYmqmfPnurXr5+2bt2quLg4xcXF6eeff77FM7+x1atXa9CgQfr++++1dOlSpaenq0OHDrp06VKe6/n5+Tnsq0OHDt2iGTunQYMGDvNdt25drn1L0v6TpE2bNjnUtnTpUknSY489lus6xX3/Xbp0SU2aNNHUqVNzXD5u3Di99957mj59ujZu3ChfX1/Fxsbqjz/+yHXMgr6PnWJQKGbNmmX8/f2ztS9cuNC4ubmZpKQke9u0adOMn5+fuXLlSo5j/fLLL0aS2bRpk73tu+++MzabzRw7dszlc78ZaWlpJjAw0IwZMybPfm3atDEvvPDCrZnUTQoPDzeTJk3Kd//z588bDw8PM3fuXHvbrl27jCSzYcOGQpiha40bN87UqFEjzz7Fef+1aNHCDBo0yP44IyPDhIaGmrFjx+bYv1u3buaBBx5waIuKijJPP/10oc7TFU6ePGkkmdWrV+faJ7fvRcXVyJEjTZMmTfLdvyTvP2OMeeGFF0ytWrVMZmZmjstL2v6TZL788kv748zMTBMSEmLGjx9vbzt//rzx8vIy//nPf3Idp6DvY2dwBOgW27Bhgxo1aqTg4GB7W2xsrFJSUrRz585c16lQoYLDEZWYmBi5ublp48aNhT7ngliwYIHOnDmjvn373rDvp59+qoCAADVs2FDDhg1TamrqLZihc95++21VrlxZTZs21fjx4/M8Zbl582alp6crJibG3la3bl1Vr15dGzZsuBXTvSkXLlxQpUqVbtivOO6/tLQ0bd682WHbu7m5KSYmJtdtv2HDBof+0p/vyZKyryTdcH/9/vvvCg8PV7Vq1dSlS5dcv9cUF3v37lVoaKhq1qypJ554QocPH861b0nef2lpafrkk0/01FNP5fmHt0va/rvWgQMHlJSU5LCP/P39FRUVles+cuZ97Az+GOotlpSU5BB+JNkfJyUl5bpOUFCQQ1uZMmVUqVKlXNcpKh9++KFiY2Nv+MdkH3/8cYWHhys0NFTbt2/Xq6++qj179mj+/Pm3aKb5N3jwYN1xxx2qVKmSEhMTNWzYMJ04cUITJ07MsX9SUpI8PT2zXQMWHBxc7PbX9fbt26cpU6ZowoQJefYrrvvv9OnTysjIyPE9tnv37hzXye09Wdz3VWZmpoYMGaK7775bDRs2zLVfnTp1NHPmTDVu3FgXLlzQhAkT1LJlS+3cubPQ/+izM6KiojR79mzVqVNHJ06c0OjRo9WqVSv9/PPPKl++fLb+JXX/SdJXX32l8+fPq0+fPrn2KWn773pZ+6Eg+8iZ97EzCED5MHToUL3zzjt59tm1a9cNL9QrSZyp+ejRo1q8eLG++OKLG45/7fVLjRo1UpUqVdSuXTvt379ftWrVcn7i+VSQ+hISEuxtjRs3lqenp55++mmNHTu2yD/KPTfO7L9jx47p/vvv12OPPaYBAwbkuW5R7z9IgwYN0s8//5zn9TGSFB0drejoaPvjli1bql69epoxY4Zef/31wp5mgXXs2NH+/8aNGysqKkrh4eH64osv1K9fvyKcmet9+OGH6tixo0JDQ3PtU9L2X0lCAMqHF198Mc+ELkk1a9bM11ghISHZrmTPujsoJCQk13Wuv/Dr6tWrOnv2bK7r3Cxnap41a5YqV66szp07F/j5oqKiJP15BOJW/AC9mX0aFRWlq1ev6uDBg6pTp0625SEhIUpLS9P58+cdjgIlJycX2v66XkHrO378uO699161bNlS77//foGf71bvv9wEBATI3d092x13eW37kJCQAvUvDuLj4+03QxT0KICHh4eaNm2qffv2FdLsXKtChQq6/fbbc51vSdx/knTo0CEtW7aswEdNS9r+y9oPycnJqlKlir09OTlZkZGROa7jzPvYKS67mggObnQRdHJysr1txowZxs/Pz/zxxx85jpV1EfSPP/5ob1u8eHGxugg6MzPT1KhRw7z44otOrb9u3Tojyfz0008unpnrffLJJ8bNzc2cPXs2x+VZF0HPmzfP3rZ79+5iexH00aNHzW233WZ69Ohhrl696tQYxWn/tWjRwsTHx9sfZ2RkmLCwsDwvgn7wwQcd2qKjo4vlRbSZmZlm0KBBJjQ01Pz6669OjXH16lVTp04d89e//tXFsyscFy9eNBUrVjTvvvtujstL0v671siRI01ISIhJT08v0HrFff8pl4ugJ0yYYG+7cOFCvi6CLsj72Km5umwkGGOMOXTokNm6dasZPXq0KVeunNm6davZunWruXjxojHmzxdvw4YNTYcOHcy2bdvMokWLTGBgoBk2bJh9jI0bN5o6deqYo0eP2tvuv/9+07RpU7Nx40azbt06c9ttt5mePXve8vpys2zZMiPJ7Nq1K9uyo0ePmjp16piNGzcaY4zZt2+fGTNmjPnxxx/NgQMHzNdff21q1qxpWrdufaunfUOJiYlm0qRJZtu2bWb//v3mk08+MYGBgaZXr172PtfXZ4wxzzzzjKlevbpZsWKF+fHHH010dLSJjo4uihLydPToUVO7dm3Trl07c/ToUXPixAn717V9StL++/zzz42Xl5eZPXu2+eWXX8zAgQNNhQoV7HdePvnkk2bo0KH2/uvXrzdlypQxEyZMMLt27TIjR440Hh4eZseOHUVVQq6effZZ4+/vb1atWuWwr1JTU+19rq9v9OjRZvHixWb//v1m8+bNpkePHsbb29vs3LmzKEq4oRdffNGsWrXKHDhwwKxfv97ExMSYgIAAc/LkSWNMyd5/WTIyMkz16tXNq6++mm1ZSdx/Fy9etP+sk2QmTpxotm7dag4dOmSMMebtt982FSpUMF9//bXZvn276dKli6lRo4a5fPmyfYz77rvPTJkyxf74Ru9jVyAAuVjv3r2NpGxfK1eutPc5ePCg6dixoylbtqwJCAgwL774osNvAStXrjSSzIEDB+xtZ86cMT179jTlypUzfn5+pm/fvvZQVRz07NnTtGzZMsdlBw4ccNgGhw8fNq1btzaVKlUyXl5epnbt2ubll182Fy5cuIUzzp/NmzebqKgo4+/vb7y9vU29evXMW2+95XC07vr6jDHm8uXL5rnnnjMVK1Y0Pj4+5uGHH3YIFcXFrFmzcny9XntwuCTuvylTppjq1asbT09P06JFC/P999/bl7Vp08b07t3bof8XX3xhbr/9duPp6WkaNGhgvv3221s84/zJbV/NmjXL3uf6+oYMGWLfFsHBwaZTp05my5Ytt37y+dS9e3dTpUoV4+npacLCwkz37t3Nvn377MtL8v7LsnjxYiPJ7NmzJ9uykrj/sn5mXf+VVUdmZqYZPny4CQ4ONl5eXqZdu3bZag8PDzcjR450aMvrfewKNmOMcd0JNQAAgOKPzwECAACWQwACAACWQwACAACWQwACAACWQwACAACWQwACAACWQwACAACWQwACAACWQwACAACWQwACAACWQwACUOqdOnVKISEheuutt+xtiYmJ8vT01PLly4twZgCKCn8LDIAlLFy4UHFxcUpMTFSdOnUUGRmpLl26aOLEiUU9NQBFgAAEwDIGDRqkZcuWqXnz5tqxY4c2bdokLy+vop4WgCJAAAJgGZcvX1bDhg115MgRbd68WY0aNSrqKQEoIlwDBMAy9u/fr+PHjyszM1MHDx4s6ukAKEIcAQJgCWlpaWrRooUiIyNVp04dTZ48WTt27FBQUFBRTw1AESAAAbCEl19+WfPmzdNPP/2kcuXKqU2bNvL399c333xT1FMDUAQ4BQag1Fu1apUmT56sjz/+WH5+fnJzc9PHH3+stWvXatq0aUU9PQBFgCNAAADAcjgCBAAALIcABAAALIcABAAALIcABAAALIcABAAALIcABAAALIcABAAALIcABAAALIcABAAALIcABAAALIcABAAALIcABAAALOf/AyXNl5kJvtcqAAAAAElFTkSuQmCC\n"
                },
                "metadata": {}
              }
            ]
          }
        },
        "f27b5bcb983441ad92ab26016bf33fdc": {
          "model_module": "@jupyter-widgets/base",
          "model_name": "LayoutModel",
          "model_module_version": "1.2.0",
          "state": {
            "_model_module": "@jupyter-widgets/base",
            "_model_module_version": "1.2.0",
            "_model_name": "LayoutModel",
            "_view_count": null,
            "_view_module": "@jupyter-widgets/base",
            "_view_module_version": "1.2.0",
            "_view_name": "LayoutView",
            "align_content": null,
            "align_items": null,
            "align_self": null,
            "border": null,
            "bottom": null,
            "display": null,
            "flex": null,
            "flex_flow": null,
            "grid_area": null,
            "grid_auto_columns": null,
            "grid_auto_flow": null,
            "grid_auto_rows": null,
            "grid_column": null,
            "grid_gap": null,
            "grid_row": null,
            "grid_template_areas": null,
            "grid_template_columns": null,
            "grid_template_rows": null,
            "height": null,
            "justify_content": null,
            "justify_items": null,
            "left": null,
            "margin": null,
            "max_height": null,
            "max_width": null,
            "min_height": null,
            "min_width": null,
            "object_fit": null,
            "object_position": null,
            "order": null,
            "overflow": null,
            "overflow_x": null,
            "overflow_y": null,
            "padding": null,
            "right": null,
            "top": null,
            "visibility": null,
            "width": null
          }
        },
        "528c7f8cd7bd4ce9b0f76d7c10ecd9d5": {
          "model_module": "@jupyter-widgets/base",
          "model_name": "LayoutModel",
          "model_module_version": "1.2.0",
          "state": {
            "_model_module": "@jupyter-widgets/base",
            "_model_module_version": "1.2.0",
            "_model_name": "LayoutModel",
            "_view_count": null,
            "_view_module": "@jupyter-widgets/base",
            "_view_module_version": "1.2.0",
            "_view_name": "LayoutView",
            "align_content": null,
            "align_items": null,
            "align_self": null,
            "border": null,
            "bottom": null,
            "display": null,
            "flex": null,
            "flex_flow": null,
            "grid_area": null,
            "grid_auto_columns": null,
            "grid_auto_flow": null,
            "grid_auto_rows": null,
            "grid_column": null,
            "grid_gap": null,
            "grid_row": null,
            "grid_template_areas": null,
            "grid_template_columns": null,
            "grid_template_rows": null,
            "height": null,
            "justify_content": null,
            "justify_items": null,
            "left": null,
            "margin": null,
            "max_height": null,
            "max_width": null,
            "min_height": null,
            "min_width": null,
            "object_fit": null,
            "object_position": null,
            "order": null,
            "overflow": null,
            "overflow_x": null,
            "overflow_y": null,
            "padding": null,
            "right": null,
            "top": null,
            "visibility": null,
            "width": null
          }
        },
        "fd77a39fc2e9494182863eef539afb2c": {
          "model_module": "@jupyter-widgets/controls",
          "model_name": "SliderStyleModel",
          "model_module_version": "1.5.0",
          "state": {
            "_model_module": "@jupyter-widgets/controls",
            "_model_module_version": "1.5.0",
            "_model_name": "SliderStyleModel",
            "_view_count": null,
            "_view_module": "@jupyter-widgets/base",
            "_view_module_version": "1.2.0",
            "_view_name": "StyleView",
            "description_width": "",
            "handle_color": null
          }
        },
        "9e8400b4b83a42a99ba076c50f1c17b8": {
          "model_module": "@jupyter-widgets/base",
          "model_name": "LayoutModel",
          "model_module_version": "1.2.0",
          "state": {
            "_model_module": "@jupyter-widgets/base",
            "_model_module_version": "1.2.0",
            "_model_name": "LayoutModel",
            "_view_count": null,
            "_view_module": "@jupyter-widgets/base",
            "_view_module_version": "1.2.0",
            "_view_name": "LayoutView",
            "align_content": null,
            "align_items": null,
            "align_self": null,
            "border": null,
            "bottom": null,
            "display": null,
            "flex": null,
            "flex_flow": null,
            "grid_area": null,
            "grid_auto_columns": null,
            "grid_auto_flow": null,
            "grid_auto_rows": null,
            "grid_column": null,
            "grid_gap": null,
            "grid_row": null,
            "grid_template_areas": null,
            "grid_template_columns": null,
            "grid_template_rows": null,
            "height": null,
            "justify_content": null,
            "justify_items": null,
            "left": null,
            "margin": null,
            "max_height": null,
            "max_width": null,
            "min_height": null,
            "min_width": null,
            "object_fit": null,
            "object_position": null,
            "order": null,
            "overflow": null,
            "overflow_x": null,
            "overflow_y": null,
            "padding": null,
            "right": null,
            "top": null,
            "visibility": null,
            "width": null
          }
        },
        "c7382ae10ffb4f53bf271d66bc5e6d23": {
          "model_module": "@jupyter-widgets/controls",
          "model_name": "SliderStyleModel",
          "model_module_version": "1.5.0",
          "state": {
            "_model_module": "@jupyter-widgets/controls",
            "_model_module_version": "1.5.0",
            "_model_name": "SliderStyleModel",
            "_view_count": null,
            "_view_module": "@jupyter-widgets/base",
            "_view_module_version": "1.2.0",
            "_view_name": "StyleView",
            "description_width": "",
            "handle_color": null
          }
        },
        "faa933084fb04757a5591c00bc36e321": {
          "model_module": "@jupyter-widgets/base",
          "model_name": "LayoutModel",
          "model_module_version": "1.2.0",
          "state": {
            "_model_module": "@jupyter-widgets/base",
            "_model_module_version": "1.2.0",
            "_model_name": "LayoutModel",
            "_view_count": null,
            "_view_module": "@jupyter-widgets/base",
            "_view_module_version": "1.2.0",
            "_view_name": "LayoutView",
            "align_content": null,
            "align_items": null,
            "align_self": null,
            "border": null,
            "bottom": null,
            "display": null,
            "flex": null,
            "flex_flow": null,
            "grid_area": null,
            "grid_auto_columns": null,
            "grid_auto_flow": null,
            "grid_auto_rows": null,
            "grid_column": null,
            "grid_gap": null,
            "grid_row": null,
            "grid_template_areas": null,
            "grid_template_columns": null,
            "grid_template_rows": null,
            "height": null,
            "justify_content": null,
            "justify_items": null,
            "left": null,
            "margin": null,
            "max_height": null,
            "max_width": null,
            "min_height": null,
            "min_width": null,
            "object_fit": null,
            "object_position": null,
            "order": null,
            "overflow": null,
            "overflow_x": null,
            "overflow_y": null,
            "padding": null,
            "right": null,
            "top": null,
            "visibility": null,
            "width": null
          }
        },
        "606b5e0f832648e4bbf52766d28c18f7": {
          "model_module": "@jupyter-widgets/controls",
          "model_name": "HBoxModel",
          "model_module_version": "1.5.0",
          "state": {
            "_dom_classes": [],
            "_model_module": "@jupyter-widgets/controls",
            "_model_module_version": "1.5.0",
            "_model_name": "HBoxModel",
            "_view_count": null,
            "_view_module": "@jupyter-widgets/controls",
            "_view_module_version": "1.5.0",
            "_view_name": "HBoxView",
            "box_style": "",
            "children": [
              "IPY_MODEL_e1ef8d2298b94c4e988996cf2bf4de04",
              "IPY_MODEL_39cb6c8f4963412abf2ddfd9f702bd30",
              "IPY_MODEL_9db1ec97f265429caf2f223dc4c5bf7c"
            ],
            "layout": "IPY_MODEL_0bcb59f4f2234b02933c707d8ac3e810"
          }
        },
        "e1ef8d2298b94c4e988996cf2bf4de04": {
          "model_module": "@jupyter-widgets/controls",
          "model_name": "HTMLModel",
          "model_module_version": "1.5.0",
          "state": {
            "_dom_classes": [],
            "_model_module": "@jupyter-widgets/controls",
            "_model_module_version": "1.5.0",
            "_model_name": "HTMLModel",
            "_view_count": null,
            "_view_module": "@jupyter-widgets/controls",
            "_view_module_version": "1.5.0",
            "_view_name": "HTMLView",
            "description": "",
            "description_tooltip": null,
            "layout": "IPY_MODEL_e7ff9ce1040c4a3ba88fa2c66b599777",
            "placeholder": "​",
            "style": "IPY_MODEL_56a0a91ad659465f919a5045c1107188",
            "value": "100%"
          }
        },
        "39cb6c8f4963412abf2ddfd9f702bd30": {
          "model_module": "@jupyter-widgets/controls",
          "model_name": "FloatProgressModel",
          "model_module_version": "1.5.0",
          "state": {
            "_dom_classes": [],
            "_model_module": "@jupyter-widgets/controls",
            "_model_module_version": "1.5.0",
            "_model_name": "FloatProgressModel",
            "_view_count": null,
            "_view_module": "@jupyter-widgets/controls",
            "_view_module_version": "1.5.0",
            "_view_name": "ProgressView",
            "bar_style": "success",
            "description": "",
            "description_tooltip": null,
            "layout": "IPY_MODEL_8a802f0b014a4b9b96cc3bc415a03d34",
            "max": 1,
            "min": 0,
            "orientation": "horizontal",
            "style": "IPY_MODEL_0f0aa098c41b4dce9f32e677ef7b00c2",
            "value": 1
          }
        },
        "9db1ec97f265429caf2f223dc4c5bf7c": {
          "model_module": "@jupyter-widgets/controls",
          "model_name": "HTMLModel",
          "model_module_version": "1.5.0",
          "state": {
            "_dom_classes": [],
            "_model_module": "@jupyter-widgets/controls",
            "_model_module_version": "1.5.0",
            "_model_name": "HTMLModel",
            "_view_count": null,
            "_view_module": "@jupyter-widgets/controls",
            "_view_module_version": "1.5.0",
            "_view_name": "HTMLView",
            "description": "",
            "description_tooltip": null,
            "layout": "IPY_MODEL_01f41df38cb14ccbaf845932c1a4f3c6",
            "placeholder": "​",
            "style": "IPY_MODEL_981054186b374f0aa6fdccef30221cd2",
            "value": " 1/1 [00:00&lt;00:00, 12.72epoch/s]"
          }
        },
        "0bcb59f4f2234b02933c707d8ac3e810": {
          "model_module": "@jupyter-widgets/base",
          "model_name": "LayoutModel",
          "model_module_version": "1.2.0",
          "state": {
            "_model_module": "@jupyter-widgets/base",
            "_model_module_version": "1.2.0",
            "_model_name": "LayoutModel",
            "_view_count": null,
            "_view_module": "@jupyter-widgets/base",
            "_view_module_version": "1.2.0",
            "_view_name": "LayoutView",
            "align_content": null,
            "align_items": null,
            "align_self": null,
            "border": null,
            "bottom": null,
            "display": null,
            "flex": null,
            "flex_flow": null,
            "grid_area": null,
            "grid_auto_columns": null,
            "grid_auto_flow": null,
            "grid_auto_rows": null,
            "grid_column": null,
            "grid_gap": null,
            "grid_row": null,
            "grid_template_areas": null,
            "grid_template_columns": null,
            "grid_template_rows": null,
            "height": null,
            "justify_content": null,
            "justify_items": null,
            "left": null,
            "margin": null,
            "max_height": null,
            "max_width": null,
            "min_height": null,
            "min_width": null,
            "object_fit": null,
            "object_position": null,
            "order": null,
            "overflow": null,
            "overflow_x": null,
            "overflow_y": null,
            "padding": null,
            "right": null,
            "top": null,
            "visibility": null,
            "width": null
          }
        },
        "e7ff9ce1040c4a3ba88fa2c66b599777": {
          "model_module": "@jupyter-widgets/base",
          "model_name": "LayoutModel",
          "model_module_version": "1.2.0",
          "state": {
            "_model_module": "@jupyter-widgets/base",
            "_model_module_version": "1.2.0",
            "_model_name": "LayoutModel",
            "_view_count": null,
            "_view_module": "@jupyter-widgets/base",
            "_view_module_version": "1.2.0",
            "_view_name": "LayoutView",
            "align_content": null,
            "align_items": null,
            "align_self": null,
            "border": null,
            "bottom": null,
            "display": null,
            "flex": null,
            "flex_flow": null,
            "grid_area": null,
            "grid_auto_columns": null,
            "grid_auto_flow": null,
            "grid_auto_rows": null,
            "grid_column": null,
            "grid_gap": null,
            "grid_row": null,
            "grid_template_areas": null,
            "grid_template_columns": null,
            "grid_template_rows": null,
            "height": null,
            "justify_content": null,
            "justify_items": null,
            "left": null,
            "margin": null,
            "max_height": null,
            "max_width": null,
            "min_height": null,
            "min_width": null,
            "object_fit": null,
            "object_position": null,
            "order": null,
            "overflow": null,
            "overflow_x": null,
            "overflow_y": null,
            "padding": null,
            "right": null,
            "top": null,
            "visibility": null,
            "width": null
          }
        },
        "56a0a91ad659465f919a5045c1107188": {
          "model_module": "@jupyter-widgets/controls",
          "model_name": "DescriptionStyleModel",
          "model_module_version": "1.5.0",
          "state": {
            "_model_module": "@jupyter-widgets/controls",
            "_model_module_version": "1.5.0",
            "_model_name": "DescriptionStyleModel",
            "_view_count": null,
            "_view_module": "@jupyter-widgets/base",
            "_view_module_version": "1.2.0",
            "_view_name": "StyleView",
            "description_width": ""
          }
        },
        "8a802f0b014a4b9b96cc3bc415a03d34": {
          "model_module": "@jupyter-widgets/base",
          "model_name": "LayoutModel",
          "model_module_version": "1.2.0",
          "state": {
            "_model_module": "@jupyter-widgets/base",
            "_model_module_version": "1.2.0",
            "_model_name": "LayoutModel",
            "_view_count": null,
            "_view_module": "@jupyter-widgets/base",
            "_view_module_version": "1.2.0",
            "_view_name": "LayoutView",
            "align_content": null,
            "align_items": null,
            "align_self": null,
            "border": null,
            "bottom": null,
            "display": null,
            "flex": null,
            "flex_flow": null,
            "grid_area": null,
            "grid_auto_columns": null,
            "grid_auto_flow": null,
            "grid_auto_rows": null,
            "grid_column": null,
            "grid_gap": null,
            "grid_row": null,
            "grid_template_areas": null,
            "grid_template_columns": null,
            "grid_template_rows": null,
            "height": null,
            "justify_content": null,
            "justify_items": null,
            "left": null,
            "margin": null,
            "max_height": null,
            "max_width": null,
            "min_height": null,
            "min_width": null,
            "object_fit": null,
            "object_position": null,
            "order": null,
            "overflow": null,
            "overflow_x": null,
            "overflow_y": null,
            "padding": null,
            "right": null,
            "top": null,
            "visibility": null,
            "width": null
          }
        },
        "0f0aa098c41b4dce9f32e677ef7b00c2": {
          "model_module": "@jupyter-widgets/controls",
          "model_name": "ProgressStyleModel",
          "model_module_version": "1.5.0",
          "state": {
            "_model_module": "@jupyter-widgets/controls",
            "_model_module_version": "1.5.0",
            "_model_name": "ProgressStyleModel",
            "_view_count": null,
            "_view_module": "@jupyter-widgets/base",
            "_view_module_version": "1.2.0",
            "_view_name": "StyleView",
            "bar_color": null,
            "description_width": ""
          }
        },
        "01f41df38cb14ccbaf845932c1a4f3c6": {
          "model_module": "@jupyter-widgets/base",
          "model_name": "LayoutModel",
          "model_module_version": "1.2.0",
          "state": {
            "_model_module": "@jupyter-widgets/base",
            "_model_module_version": "1.2.0",
            "_model_name": "LayoutModel",
            "_view_count": null,
            "_view_module": "@jupyter-widgets/base",
            "_view_module_version": "1.2.0",
            "_view_name": "LayoutView",
            "align_content": null,
            "align_items": null,
            "align_self": null,
            "border": null,
            "bottom": null,
            "display": null,
            "flex": null,
            "flex_flow": null,
            "grid_area": null,
            "grid_auto_columns": null,
            "grid_auto_flow": null,
            "grid_auto_rows": null,
            "grid_column": null,
            "grid_gap": null,
            "grid_row": null,
            "grid_template_areas": null,
            "grid_template_columns": null,
            "grid_template_rows": null,
            "height": null,
            "justify_content": null,
            "justify_items": null,
            "left": null,
            "margin": null,
            "max_height": null,
            "max_width": null,
            "min_height": null,
            "min_width": null,
            "object_fit": null,
            "object_position": null,
            "order": null,
            "overflow": null,
            "overflow_x": null,
            "overflow_y": null,
            "padding": null,
            "right": null,
            "top": null,
            "visibility": null,
            "width": null
          }
        },
        "981054186b374f0aa6fdccef30221cd2": {
          "model_module": "@jupyter-widgets/controls",
          "model_name": "DescriptionStyleModel",
          "model_module_version": "1.5.0",
          "state": {
            "_model_module": "@jupyter-widgets/controls",
            "_model_module_version": "1.5.0",
            "_model_name": "DescriptionStyleModel",
            "_view_count": null,
            "_view_module": "@jupyter-widgets/base",
            "_view_module_version": "1.2.0",
            "_view_name": "StyleView",
            "description_width": ""
          }
        },
        "1f74c67d70964e598b25a628a24f24e2": {
          "model_module": "@jupyter-widgets/controls",
          "model_name": "HBoxModel",
          "model_module_version": "1.5.0",
          "state": {
            "_dom_classes": [],
            "_model_module": "@jupyter-widgets/controls",
            "_model_module_version": "1.5.0",
            "_model_name": "HBoxModel",
            "_view_count": null,
            "_view_module": "@jupyter-widgets/controls",
            "_view_module_version": "1.5.0",
            "_view_name": "HBoxView",
            "box_style": "",
            "children": [
              "IPY_MODEL_94b5ce7c055940d0b8f2251884df4a46",
              "IPY_MODEL_e57544c342894a59b7951834aac189d6",
              "IPY_MODEL_13476fd12f28480caad0af90f7255160"
            ],
            "layout": "IPY_MODEL_7fb004727fc74d9db8c23ec06f313a79"
          }
        },
        "94b5ce7c055940d0b8f2251884df4a46": {
          "model_module": "@jupyter-widgets/controls",
          "model_name": "HTMLModel",
          "model_module_version": "1.5.0",
          "state": {
            "_dom_classes": [],
            "_model_module": "@jupyter-widgets/controls",
            "_model_module_version": "1.5.0",
            "_model_name": "HTMLModel",
            "_view_count": null,
            "_view_module": "@jupyter-widgets/controls",
            "_view_module_version": "1.5.0",
            "_view_name": "HTMLView",
            "description": "",
            "description_tooltip": null,
            "layout": "IPY_MODEL_8876bbc02d0b49048afa9a71defd2477",
            "placeholder": "​",
            "style": "IPY_MODEL_6c44da5fd42542aa83f2cc98dacb431f",
            "value": "100%"
          }
        },
        "e57544c342894a59b7951834aac189d6": {
          "model_module": "@jupyter-widgets/controls",
          "model_name": "FloatProgressModel",
          "model_module_version": "1.5.0",
          "state": {
            "_dom_classes": [],
            "_model_module": "@jupyter-widgets/controls",
            "_model_module_version": "1.5.0",
            "_model_name": "FloatProgressModel",
            "_view_count": null,
            "_view_module": "@jupyter-widgets/controls",
            "_view_module_version": "1.5.0",
            "_view_name": "ProgressView",
            "bar_style": "success",
            "description": "",
            "description_tooltip": null,
            "layout": "IPY_MODEL_afb86cc2d19d4829b59b377e0f149419",
            "max": 2000,
            "min": 0,
            "orientation": "horizontal",
            "style": "IPY_MODEL_1323af06a36f40c99edb3c6cfbc24951",
            "value": 2000
          }
        },
        "13476fd12f28480caad0af90f7255160": {
          "model_module": "@jupyter-widgets/controls",
          "model_name": "HTMLModel",
          "model_module_version": "1.5.0",
          "state": {
            "_dom_classes": [],
            "_model_module": "@jupyter-widgets/controls",
            "_model_module_version": "1.5.0",
            "_model_name": "HTMLModel",
            "_view_count": null,
            "_view_module": "@jupyter-widgets/controls",
            "_view_module_version": "1.5.0",
            "_view_name": "HTMLView",
            "description": "",
            "description_tooltip": null,
            "layout": "IPY_MODEL_522cee30dcc1434dae39d738e4164df1",
            "placeholder": "​",
            "style": "IPY_MODEL_969ed5b2a9e74728909dc5162d61d352",
            "value": " 2000/2000 [00:27&lt;00:00, 72.46epoch/s]"
          }
        },
        "7fb004727fc74d9db8c23ec06f313a79": {
          "model_module": "@jupyter-widgets/base",
          "model_name": "LayoutModel",
          "model_module_version": "1.2.0",
          "state": {
            "_model_module": "@jupyter-widgets/base",
            "_model_module_version": "1.2.0",
            "_model_name": "LayoutModel",
            "_view_count": null,
            "_view_module": "@jupyter-widgets/base",
            "_view_module_version": "1.2.0",
            "_view_name": "LayoutView",
            "align_content": null,
            "align_items": null,
            "align_self": null,
            "border": null,
            "bottom": null,
            "display": null,
            "flex": null,
            "flex_flow": null,
            "grid_area": null,
            "grid_auto_columns": null,
            "grid_auto_flow": null,
            "grid_auto_rows": null,
            "grid_column": null,
            "grid_gap": null,
            "grid_row": null,
            "grid_template_areas": null,
            "grid_template_columns": null,
            "grid_template_rows": null,
            "height": null,
            "justify_content": null,
            "justify_items": null,
            "left": null,
            "margin": null,
            "max_height": null,
            "max_width": null,
            "min_height": null,
            "min_width": null,
            "object_fit": null,
            "object_position": null,
            "order": null,
            "overflow": null,
            "overflow_x": null,
            "overflow_y": null,
            "padding": null,
            "right": null,
            "top": null,
            "visibility": null,
            "width": null
          }
        },
        "8876bbc02d0b49048afa9a71defd2477": {
          "model_module": "@jupyter-widgets/base",
          "model_name": "LayoutModel",
          "model_module_version": "1.2.0",
          "state": {
            "_model_module": "@jupyter-widgets/base",
            "_model_module_version": "1.2.0",
            "_model_name": "LayoutModel",
            "_view_count": null,
            "_view_module": "@jupyter-widgets/base",
            "_view_module_version": "1.2.0",
            "_view_name": "LayoutView",
            "align_content": null,
            "align_items": null,
            "align_self": null,
            "border": null,
            "bottom": null,
            "display": null,
            "flex": null,
            "flex_flow": null,
            "grid_area": null,
            "grid_auto_columns": null,
            "grid_auto_flow": null,
            "grid_auto_rows": null,
            "grid_column": null,
            "grid_gap": null,
            "grid_row": null,
            "grid_template_areas": null,
            "grid_template_columns": null,
            "grid_template_rows": null,
            "height": null,
            "justify_content": null,
            "justify_items": null,
            "left": null,
            "margin": null,
            "max_height": null,
            "max_width": null,
            "min_height": null,
            "min_width": null,
            "object_fit": null,
            "object_position": null,
            "order": null,
            "overflow": null,
            "overflow_x": null,
            "overflow_y": null,
            "padding": null,
            "right": null,
            "top": null,
            "visibility": null,
            "width": null
          }
        },
        "6c44da5fd42542aa83f2cc98dacb431f": {
          "model_module": "@jupyter-widgets/controls",
          "model_name": "DescriptionStyleModel",
          "model_module_version": "1.5.0",
          "state": {
            "_model_module": "@jupyter-widgets/controls",
            "_model_module_version": "1.5.0",
            "_model_name": "DescriptionStyleModel",
            "_view_count": null,
            "_view_module": "@jupyter-widgets/base",
            "_view_module_version": "1.2.0",
            "_view_name": "StyleView",
            "description_width": ""
          }
        },
        "afb86cc2d19d4829b59b377e0f149419": {
          "model_module": "@jupyter-widgets/base",
          "model_name": "LayoutModel",
          "model_module_version": "1.2.0",
          "state": {
            "_model_module": "@jupyter-widgets/base",
            "_model_module_version": "1.2.0",
            "_model_name": "LayoutModel",
            "_view_count": null,
            "_view_module": "@jupyter-widgets/base",
            "_view_module_version": "1.2.0",
            "_view_name": "LayoutView",
            "align_content": null,
            "align_items": null,
            "align_self": null,
            "border": null,
            "bottom": null,
            "display": null,
            "flex": null,
            "flex_flow": null,
            "grid_area": null,
            "grid_auto_columns": null,
            "grid_auto_flow": null,
            "grid_auto_rows": null,
            "grid_column": null,
            "grid_gap": null,
            "grid_row": null,
            "grid_template_areas": null,
            "grid_template_columns": null,
            "grid_template_rows": null,
            "height": null,
            "justify_content": null,
            "justify_items": null,
            "left": null,
            "margin": null,
            "max_height": null,
            "max_width": null,
            "min_height": null,
            "min_width": null,
            "object_fit": null,
            "object_position": null,
            "order": null,
            "overflow": null,
            "overflow_x": null,
            "overflow_y": null,
            "padding": null,
            "right": null,
            "top": null,
            "visibility": null,
            "width": null
          }
        },
        "1323af06a36f40c99edb3c6cfbc24951": {
          "model_module": "@jupyter-widgets/controls",
          "model_name": "ProgressStyleModel",
          "model_module_version": "1.5.0",
          "state": {
            "_model_module": "@jupyter-widgets/controls",
            "_model_module_version": "1.5.0",
            "_model_name": "ProgressStyleModel",
            "_view_count": null,
            "_view_module": "@jupyter-widgets/base",
            "_view_module_version": "1.2.0",
            "_view_name": "StyleView",
            "bar_color": null,
            "description_width": ""
          }
        },
        "522cee30dcc1434dae39d738e4164df1": {
          "model_module": "@jupyter-widgets/base",
          "model_name": "LayoutModel",
          "model_module_version": "1.2.0",
          "state": {
            "_model_module": "@jupyter-widgets/base",
            "_model_module_version": "1.2.0",
            "_model_name": "LayoutModel",
            "_view_count": null,
            "_view_module": "@jupyter-widgets/base",
            "_view_module_version": "1.2.0",
            "_view_name": "LayoutView",
            "align_content": null,
            "align_items": null,
            "align_self": null,
            "border": null,
            "bottom": null,
            "display": null,
            "flex": null,
            "flex_flow": null,
            "grid_area": null,
            "grid_auto_columns": null,
            "grid_auto_flow": null,
            "grid_auto_rows": null,
            "grid_column": null,
            "grid_gap": null,
            "grid_row": null,
            "grid_template_areas": null,
            "grid_template_columns": null,
            "grid_template_rows": null,
            "height": null,
            "justify_content": null,
            "justify_items": null,
            "left": null,
            "margin": null,
            "max_height": null,
            "max_width": null,
            "min_height": null,
            "min_width": null,
            "object_fit": null,
            "object_position": null,
            "order": null,
            "overflow": null,
            "overflow_x": null,
            "overflow_y": null,
            "padding": null,
            "right": null,
            "top": null,
            "visibility": null,
            "width": null
          }
        },
        "969ed5b2a9e74728909dc5162d61d352": {
          "model_module": "@jupyter-widgets/controls",
          "model_name": "DescriptionStyleModel",
          "model_module_version": "1.5.0",
          "state": {
            "_model_module": "@jupyter-widgets/controls",
            "_model_module_version": "1.5.0",
            "_model_name": "DescriptionStyleModel",
            "_view_count": null,
            "_view_module": "@jupyter-widgets/base",
            "_view_module_version": "1.2.0",
            "_view_name": "StyleView",
            "description_width": ""
          }
        }
      }
    }
  },
  "cells": [
    {
      "cell_type": "markdown",
      "source": [
        "#Plotting Sigmoid function"
      ],
      "metadata": {
        "id": "M1T3q5gV6Uqm"
      }
    },
    {
      "cell_type": "code",
      "source": [
        "import numpy as np\n",
        "import matplotlib.pyplot as plt\n",
        "from ipywidgets import interact\n",
        "import pandas as pd\n",
        "from sklearn.model_selection import train_test_split\n",
        "from sklearn.metrics import accuracy_score, mean_squared_error\n",
        "from tqdm import tqdm  # for regular progress bar\n",
        "from tqdm.notebook import tqdm"
      ],
      "metadata": {
        "id": "AhZq2yfT6auF"
      },
      "execution_count": 63,
      "outputs": []
    },
    {
      "cell_type": "code",
      "execution_count": 64,
      "metadata": {
        "id": "hTLOnBC85_qa"
      },
      "outputs": [],
      "source": [
        "def sigmoid(w, x, b):\n",
        "  return(1 / (1 + np.exp(-1 * (w * x + b))))"
      ]
    },
    {
      "cell_type": "code",
      "source": [
        "def plot_sigmoid(w, b):\n",
        "    x = np.linspace(-10, 10, 100)\n",
        "    y = sigmoid(w, x, b)\n",
        "    plt.plot(x, y)\n",
        "    plt.xlabel(\"x\")\n",
        "    plt.ylabel(\"Sigmoid(x)\")\n",
        "    plt.title(\"Sigmoid Function with Interactive Parameters\")\n",
        "    plt.grid(True)\n",
        "    plt.show()\n",
        "\n",
        "# Interactive sliders for 'w' and 'b'\n",
        "interact(plot_sigmoid, w=(-2.0, 2.0, 0.1), b=(-2.0, 2.0, 0.1))"
      ],
      "metadata": {
        "colab": {
          "base_uri": "https://localhost:8080/",
          "height": 623,
          "referenced_widgets": [
            "294883065e3a417ca8c22a7f98651e84",
            "79b451fe741449b2b0b1629e6f74152f",
            "a868864c87f049268958433d783d4c68",
            "a5854d78eefe4d96b95bcb89dbaa3013",
            "6f04de689b984dbdbf1b7a01b3f338ee",
            "fcc54eb3826f415f88e74f8967cff09b",
            "2079c2be1d774e50bb04920813a3fa68",
            "4add23ced4444626b69f5653fdeefbc9",
            "958d17d14466412c9e422eedb2cc65cc",
            "ec7194e13be84ca9ae0f3f4b60f4d3a2"
          ]
        },
        "id": "g6luHz0nkh3U",
        "outputId": "282212c3-16f6-4768-d22f-f55264a4f643"
      },
      "execution_count": 65,
      "outputs": [
        {
          "output_type": "display_data",
          "data": {
            "text/plain": [
              "interactive(children=(FloatSlider(value=0.0, description='w', max=2.0, min=-2.0), FloatSlider(value=0.0, descr…"
            ],
            "application/vnd.jupyter.widget-view+json": {
              "version_major": 2,
              "version_minor": 0,
              "model_id": "294883065e3a417ca8c22a7f98651e84"
            }
          },
          "metadata": {}
        },
        {
          "output_type": "execute_result",
          "data": {
            "text/plain": [
              "<function __main__.plot_sigmoid(w, b)>"
            ],
            "text/html": [
              "<div style=\"max-width:800px; border: 1px solid var(--colab-border-color);\"><style>\n",
              "      pre.function-repr-contents {\n",
              "        overflow-x: auto;\n",
              "        padding: 8px 12px;\n",
              "        max-height: 500px;\n",
              "      }\n",
              "\n",
              "      pre.function-repr-contents.function-repr-contents-collapsed {\n",
              "        cursor: pointer;\n",
              "        max-height: 100px;\n",
              "      }\n",
              "    </style>\n",
              "    <pre style=\"white-space: initial; background:\n",
              "         var(--colab-secondary-surface-color); padding: 8px 12px;\n",
              "         border-bottom: 1px solid var(--colab-border-color);\"><b>plot_sigmoid</b><br/>def plot_sigmoid(w, b)</pre><pre class=\"function-repr-contents function-repr-contents-collapsed\" style=\"\"><a class=\"filepath\" style=\"display:none\" href=\"#\">/content/&lt;ipython-input-65-810161e0a1ef&gt;</a>&lt;no docstring&gt;</pre></div>"
            ]
          },
          "metadata": {},
          "execution_count": 65
        }
      ]
    },
    {
      "cell_type": "code",
      "source": [
        "class Interactive_plot:\n",
        "  def __init__(self):\n",
        "    pass\n",
        "\n",
        "\n",
        "  def sigmoid(self, w, x, b):\n",
        "    return(1 / (1 + np.exp(-1 * (w * x + b))))\n",
        "\n",
        "  def plot_sigmoid(self, w, b):\n",
        "    x = np.linspace(-10, 10, 100)\n",
        "    y = self.sigmoid(w, x, b)\n",
        "    plt.plot(x, y)\n",
        "    plt.xlabel(\"x\")\n",
        "    plt.ylabel(\"Sigmoid(x)\")\n",
        "    plt.title(\"Sigmoid Function with Interactive Parameters\")\n",
        "    plt.grid(True)\n",
        "    plt.show()\n",
        "\n",
        "  def interact_plot(self, uw, lw, ub, lb):\n",
        "    interact(self.plot_sigmoid, w=(uw, lw, 0.1), b=(ub, lb, 0.1))"
      ],
      "metadata": {
        "id": "HWUPLGdt7epu"
      },
      "execution_count": 66,
      "outputs": []
    },
    {
      "cell_type": "code",
      "source": [
        "p = Interactive_plot()\n",
        "p.interact_plot(-2, 2, -2, 2)"
      ],
      "metadata": {
        "colab": {
          "base_uri": "https://localhost:8080/",
          "height": 536,
          "referenced_widgets": [
            "9b9b3beab1c0490c89dc51b2a36c0701",
            "07b056e48ff54efab1d2015be984db27",
            "a103fa2104704360a1986c0f76fbcc4a",
            "2a1fc750a7834b2284a62fe1893b86b0",
            "f27b5bcb983441ad92ab26016bf33fdc",
            "528c7f8cd7bd4ce9b0f76d7c10ecd9d5",
            "fd77a39fc2e9494182863eef539afb2c",
            "9e8400b4b83a42a99ba076c50f1c17b8",
            "c7382ae10ffb4f53bf271d66bc5e6d23",
            "faa933084fb04757a5591c00bc36e321"
          ]
        },
        "id": "-X069yxt7iBt",
        "outputId": "d84fbd7b-31bf-42dd-d0e1-466188ba81dd"
      },
      "execution_count": 67,
      "outputs": [
        {
          "output_type": "display_data",
          "data": {
            "text/plain": [
              "interactive(children=(FloatSlider(value=0.0, description='w', max=2.0, min=-2.0), FloatSlider(value=0.0, descr…"
            ],
            "application/vnd.jupyter.widget-view+json": {
              "version_major": 2,
              "version_minor": 0,
              "model_id": "9b9b3beab1c0490c89dc51b2a36c0701"
            }
          },
          "metadata": {}
        }
      ]
    },
    {
      "cell_type": "markdown",
      "source": [
        "#Plotting sigmoid function in 2d"
      ],
      "metadata": {
        "id": "ENcVZ7m3H0Mw"
      }
    },
    {
      "cell_type": "code",
      "source": [
        "def sigmoid2d(x1, x2, w1, w2, b):\n",
        "  return(1 / (1 + np.exp(-1 * (w1 * x1 + w2 * x2 + b))))"
      ],
      "metadata": {
        "id": "NZV-e6Wo8AAi"
      },
      "execution_count": 68,
      "outputs": []
    },
    {
      "cell_type": "code",
      "source": [
        "from mpl_toolkits import mplot3d"
      ],
      "metadata": {
        "id": "yiJ5KR1pEVoy"
      },
      "execution_count": 69,
      "outputs": []
    },
    {
      "cell_type": "code",
      "source": [
        "w1 = .5\n",
        "w2 = 2\n",
        "b = 0\n",
        "x1 = np.linspace(-10, 10, 100)\n",
        "x2 = np.linspace(-10, 10, 100)\n",
        "\n",
        "x, y = np.meshgrid(x1, x2)\n",
        "z = sigmoid2d(x, y, w1, w2, b)\n",
        "fig = plt.figure()\n",
        "ax = plt.axes(projection = '3d') # this makes an enviroment which is suitable for 3d plotting.\n",
        "ax.plot_surface(x, y, z, cmap = 'viridis') #virdis specifies the colormap\n",
        "ax.set_xlabel('x')\n",
        "ax.set_ylabel('y')\n",
        "ax.set_zlabel('z')\n",
        "ax.view_init(30, 180) #30 is the height you are looking from, and the second angle 270 represents the rotation of the plot about z axis\n",
        "                      # if x is fixed to some value then for all x the plots remains same, this is because y is dominating feature in here\n",
        "                      # as weight value is larger"
      ],
      "metadata": {
        "id": "4h5281AwEAfL",
        "colab": {
          "base_uri": "https://localhost:8080/",
          "height": 406
        },
        "outputId": "85e8017c-5f7d-4f97-987e-353d34a33009"
      },
      "execution_count": 70,
      "outputs": [
        {
          "output_type": "display_data",
          "data": {
            "text/plain": [
              "<Figure size 640x480 with 1 Axes>"
            ],
            "image/png": "[encoded data removed]"
          },
          "metadata": {}
        }
      ]
    },
    {
      "cell_type": "markdown",
      "source": [
        "#Compute loss for a given dataset"
      ],
      "metadata": {
        "id": "bYqyGyWmLutf"
      }
    },
    {
      "cell_type": "code",
      "source": [
        "w_unknown = 0.5\n",
        "b_unknown = 0.25\n",
        "x = np.random.random(25) * 20 - 10 #creates a random vector in -10 to 10\n",
        "y = sigmoid(w_unknown, x, b_unknown)\n",
        "plt.plot(x, y, '*')\n",
        "plt.show()"
      ],
      "metadata": {
        "colab": {
          "base_uri": "https://localhost:8080/",
          "height": 430
        },
        "id": "OMkqB7bYHQkj",
        "outputId": "17f10b03-d101-43b9-bef7-1aed1472db5a"
      },
      "execution_count": 71,
      "outputs": [
        {
          "output_type": "display_data",
          "data": {
            "text/plain": [
              "<Figure size 640x480 with 1 Axes>"
            ],
            "image/png": "[encoded data removed]"
          },
          "metadata": {}
        }
      ]
    },
    {
      "cell_type": "code",
      "source": [
        "def calculate_loss(X, Y, w_est, b_est): #function to calculate loss for particular value of w, b.\n",
        "  loss = 0\n",
        "  for x, y in zip(X, Y):\n",
        "    loss += (y - sigmoid(w_est, x, b_est)) ** 2\n",
        "\n",
        "  return(loss)"
      ],
      "metadata": {
        "id": "ANtEWtXS5Ruk"
      },
      "execution_count": 72,
      "outputs": []
    },
    {
      "cell_type": "code",
      "source": [
        "w = np.linspace(-1, 1, 100)\n",
        "b = np.linspace(-1, 1, 100)\n",
        "ww, wb = np.meshgrid(w, b)\n",
        "Loss = np.zeros(ww.shape)\n"
      ],
      "metadata": {
        "id": "CtboBp3YNEo3"
      },
      "execution_count": 73,
      "outputs": []
    },
    {
      "cell_type": "markdown",
      "source": [],
      "metadata": {
        "id": "w2qrssQgv7av"
      }
    },
    {
      "cell_type": "code",
      "source": [
        "for i in range(ww.shape[0]):\n",
        "  for j in range(ww.shape[1]):\n",
        "    Loss[i, j] = calculate_loss(x, y, ww[i, j], wb[i, j]) #here y contains the values corresponding to sigmoid function with parameters w, b which are unknown\n",
        "\n",
        "fig = plt.figure()\n",
        "ax = plt.axes(projection = '3d')\n",
        "ax.plot_surface(ww, wb, Loss, cmap = 'viridis')\n",
        "ax.set_xlabel('w')\n",
        "ax.set_ylabel('b')\n",
        "ax.set_zlabel('Loss')\n"
      ],
      "metadata": {
        "colab": {
          "base_uri": "https://localhost:8080/",
          "height": 433
        },
        "id": "DFaH0Smh2UXV",
        "outputId": "d434f9b1-52f6-4470-a1f2-2f12ec1ab456"
      },
      "execution_count": 74,
      "outputs": [
        {
          "output_type": "execute_result",
          "data": {
            "text/plain": [
              "Text(0.5, 0, 'Loss')"
            ]
          },
          "metadata": {},
          "execution_count": 74
        },
        {
          "output_type": "display_data",
          "data": {
            "text/plain": [
              "<Figure size 640x480 with 1 Axes>"
            ],
            "image/png": "[encoded data removed]"
          },
          "metadata": {}
        }
      ]
    },
    {
      "cell_type": "code",
      "source": [
        "ij = np.argmin(Loss) # it flattens the 2d array(rowwise) and return the position where the min value is stored\n",
        "i = int(np.floor(ij / Loss.shape[1])) #manually calculating row and collumn\n",
        "j = int(ij - i * Loss.shape[1])\n",
        "\n",
        "print(i, j)"
      ],
      "metadata": {
        "colab": {
          "base_uri": "https://localhost:8080/"
        },
        "id": "vdphHDCS85Dt",
        "outputId": "4f4803a4-a25b-4e53-9715-c485b42ab902"
      },
      "execution_count": 75,
      "outputs": [
        {
          "output_type": "stream",
          "name": "stdout",
          "text": [
            "62 74\n"
          ]
        }
      ]
    },
    {
      "cell_type": "code",
      "source": [
        "print(ww[i, j], wb[i,j]) # value of weights with minimum Loss"
      ],
      "metadata": {
        "colab": {
          "base_uri": "https://localhost:8080/"
        },
        "id": "dMg_5YfGA_HW",
        "outputId": "69ea32e9-49de-476c-cdb6-2bbb1bbfa4b1"
      },
      "execution_count": 76,
      "outputs": [
        {
          "output_type": "stream",
          "name": "stdout",
          "text": [
            "0.49494949494949503 0.2525252525252526\n"
          ]
        }
      ]
    },
    {
      "cell_type": "markdown",
      "source": [
        "#class for sigmoid neuron"
      ],
      "metadata": {
        "id": "Jd9gtvjyYJ4u"
      }
    },
    {
      "cell_type": "code",
      "source": [
        "class Sigmoid_Neuron:\n",
        "  def __init__(self):\n",
        "    self.w = None\n",
        "    self.b = None\n",
        "\n",
        "  def perceptron(self, x):\n",
        "    return(np.dot(self.w, x) + self.b)\n",
        "\n",
        "  def sigmoid(self, x):\n",
        "    return(1.0 / (1.0 + np.exp(-x)))\n",
        "\n",
        "  def grad_w(self, x, y):\n",
        "    y_pred = self.sigmoid(self.perceptron(x))\n",
        "    return(y_pred - y) * y_pred * (1 - y_pred) * x\n",
        "\n",
        "  def grad_b(self, x, y):\n",
        "    y_pred = self.sigmoid(self.perceptron(x))\n",
        "    return(y_pred - y) * y_pred * (1 - y_pred)\n",
        "\n",
        "  def fit(self, X, Y, epochs = 1, learning_rate = 1, initialise = True, display_loss = False):\n",
        "    if initialise:\n",
        "      self.w = np.random.randn(1, X.shape[1]) #initialising weights\n",
        "      self.b = 0\n",
        "\n",
        "    if display_loss:\n",
        "      loss = {}\n",
        "    for i in tqdm(range(epochs), total = epochs, unit = \"epoch\"): #writting like this is very important in deep learning, as you can see how things are changing with time, if you want to know that for 1hr how many epochs will be required, you can use this.\n",
        "      dw = 0\n",
        "      db = 0\n",
        "      for x, y in zip(X, Y):\n",
        "        dw += self.grad_w(x, y)\n",
        "        db += self.grad_b(x, y)\n",
        "\n",
        "      self.w -= learning_rate * dw\n",
        "      self.b -= learning_rate * db\n",
        "\n",
        "      if display_loss:\n",
        "        Y_pred = self.predict(X)\n",
        "        loss[i] = mean_squared_error(Y_pred, Y)\n",
        "\n",
        "    if display_loss:\n",
        "      plt.plot(loss.values())\n",
        "      plt.xlabel('Epochs')\n",
        "      plt.ylabel('Mean Squared Error')\n",
        "\n",
        "  def predict(self, X):\n",
        "    Y_pred = []\n",
        "    for x in X:\n",
        "      y_pred = self.sigmoid(self.perceptron(x))\n",
        "      Y_pred.append(y_pred)\n",
        "\n",
        "    return np.array(Y_pred)\n"
      ],
      "metadata": {
        "id": "b6Jl9htGDCPz"
      },
      "execution_count": 77,
      "outputs": []
    },
    {
      "cell_type": "markdown",
      "source": [
        "#Fit for toy data"
      ],
      "metadata": {
        "id": "Yg06sAvGllbL"
      }
    },
    {
      "cell_type": "code",
      "source": [
        "x = np.asarray([[2.5, 2.5], [4, -1], [1, -4], [3, 1.25], [2, 4], [1, 5]])\n",
        "y = np.asarray([1, 1, 1, 0, 0, 0])\n",
        "print(type(x), type(y))\n",
        "print(x.shape, y.shape)\n"
      ],
      "metadata": {
        "id": "vQ806Pw_lkrC",
        "colab": {
          "base_uri": "https://localhost:8080/"
        },
        "outputId": "ce3e24bd-729f-4fc1-a4a5-e8c7190b71bb"
      },
      "execution_count": 78,
      "outputs": [
        {
          "output_type": "stream",
          "name": "stdout",
          "text": [
            "<class 'numpy.ndarray'> <class 'numpy.ndarray'>\n",
            "(6, 2) (6,)\n"
          ]
        }
      ]
    },
    {
      "cell_type": "code",
      "source": [
        "sn = Sigmoid_Neuron()"
      ],
      "metadata": {
        "id": "lMglYoFCmlo1"
      },
      "execution_count": 79,
      "outputs": []
    },
    {
      "cell_type": "code",
      "source": [
        "sn.fit(x, y, 1, 0.25, True)"
      ],
      "metadata": {
        "colab": {
          "base_uri": "https://localhost:8080/",
          "height": 49,
          "referenced_widgets": [
            "606b5e0f832648e4bbf52766d28c18f7",
            "e1ef8d2298b94c4e988996cf2bf4de04",
            "39cb6c8f4963412abf2ddfd9f702bd30",
            "9db1ec97f265429caf2f223dc4c5bf7c",
            "0bcb59f4f2234b02933c707d8ac3e810",
            "e7ff9ce1040c4a3ba88fa2c66b599777",
            "56a0a91ad659465f919a5045c1107188",
            "8a802f0b014a4b9b96cc3bc415a03d34",
            "0f0aa098c41b4dce9f32e677ef7b00c2",
            "01f41df38cb14ccbaf845932c1a4f3c6",
            "981054186b374f0aa6fdccef30221cd2"
          ]
        },
        "id": "XxFCvzK-iw6a",
        "outputId": "d1e8b6a5-c780-44ea-95d2-5ff717259f0a"
      },
      "execution_count": 80,
      "outputs": [
        {
          "output_type": "display_data",
          "data": {
            "text/plain": [
              "  0%|          | 0/1 [00:00<?, ?epoch/s]"
            ],
            "application/vnd.jupyter.widget-view+json": {
              "version_major": 2,
              "version_minor": 0,
              "model_id": "606b5e0f832648e4bbf52766d28c18f7"
            }
          },
          "metadata": {}
        }
      ]
    },
    {
      "cell_type": "code",
      "source": [
        "# def plot_sn(X, Y, sn): # This is not a correct plot so ignore this cell\n",
        "#   x1 = np.linspace(-10, 10, 100)\n",
        "#   x2 = np.linspace(-10, 10, 100)\n",
        "\n",
        "#   xx1, xx2 = np.meshgrid(x1, x2)\n",
        "#   yy = np.zeros(xx1.shape)\n",
        "#   for i in range(x1.size):\n",
        "#     for j in range(x2.size):\n",
        "#       val = np.asarray([x1[j], x2[i]])\n",
        "#       yy[i, j] = sn.sigmoid(sn.perceptron(val))\n",
        "\n",
        "#   plt.contour(xx1, xx2, yy, cmap = plt.get_cmap('viridis'), alpha = 0.6)\n",
        "#   plt.scatter(X[:, 0], X[:, 1], c = Y)\n",
        "#   plt.plot()"
      ],
      "metadata": {
        "id": "mE3ZbopBrTeK"
      },
      "execution_count": 81,
      "outputs": []
    },
    {
      "cell_type": "code",
      "source": [
        "\n",
        "# for i in range(20):\n",
        "#   print(sn.w, sn.b)\n",
        "#   sn.fit(x, y, 1, 0.5, False)\n",
        "#   plot_sn(x, y, sn)"
      ],
      "metadata": {
        "id": "u6iGOJ0Dm5It"
      },
      "execution_count": 82,
      "outputs": []
    },
    {
      "cell_type": "markdown",
      "source": [
        "#Working with a real world example"
      ],
      "metadata": {
        "id": "Yk4qwYZdWj_y"
      }
    },
    {
      "cell_type": "markdown",
      "source": [
        "#Load Data"
      ],
      "metadata": {
        "id": "XTM2a33QWnEa"
      }
    },
    {
      "cell_type": "code",
      "source": [
        "data = pd.read_csv('mobile_cleaned.csv') #mobile phones with some features and there rating,\n",
        "                                        # we want to build a model that will classify mobile phone\n",
        "                                        # is liked or not(by binariisng the output)"
      ],
      "metadata": {
        "id": "_4XGNUmYowRo"
      },
      "execution_count": 83,
      "outputs": []
    },
    {
      "cell_type": "code",
      "source": [
        "data.head() #Observe what kind of data we are dealing with."
      ],
      "metadata": {
        "colab": {
          "base_uri": "https://localhost:8080/",
          "height": 325
        },
        "id": "b8mdqdHeWhhU",
        "outputId": "9cf7fd31-fcfb-468c-e879-c19f3abf2f8f"
      },
      "execution_count": 84,
      "outputs": [
        {
          "output_type": "execute_result",
          "data": {
            "text/plain": [
              "   PhoneId  Pixel Density  Screen Size  Weight  RAM  Processor_frequency  \\\n",
              "0        0            403         6.26     182    4                  1.8   \n",
              "1        1            271         6.20     168    3                  1.8   \n",
              "2        2            409         6.30     168    3                  2.1   \n",
              "3        4            411         6.00     169    4                  2.2   \n",
              "4        5            396         6.50     175    4                  2.2   \n",
              "\n",
              "   Screen to Body Ratio (calculated)  Height  Internal Memory  Capacity  ...  \\\n",
              "0                              80.68   157.9               64      4000  ...   \n",
              "1                              80.85   156.2               32      4230  ...   \n",
              "2                              83.68   157.0               32      3500  ...   \n",
              "3                              74.78   159.8               64      3300  ...   \n",
              "4                              84.23   160.4               64      3750  ...   \n",
              "\n",
              "   os_name_Tizen  os_name_iOS  SIM Slot(s)_Dual SIM, GSM+CDMA  \\\n",
              "0              0            0                               0   \n",
              "1              0            0                               0   \n",
              "2              0            0                               0   \n",
              "3              0            0                               0   \n",
              "4              0            0                               0   \n",
              "\n",
              "   SIM Slot(s)_Dual SIM, GSM+GSM  SIM Slot(s)_Dual SIM, GSM+GSM, Dual VoLTE  \\\n",
              "0                              0                                          1   \n",
              "1                              0                                          1   \n",
              "2                              0                                          1   \n",
              "3                              1                                          0   \n",
              "4                              0                                          1   \n",
              "\n",
              "   SIM Slot(s)_Single SIM, GSM  Sim1_2G  Sim1_3G  Sim1_4G  Rating  \n",
              "0                            0        0        0        1     4.5  \n",
              "1                            0        0        0        1     4.5  \n",
              "2                            0        0        0        1     4.4  \n",
              "3                            0        0        0        1     4.3  \n",
              "4                            0        0        0        1     4.4  \n",
              "\n",
              "[5 rows x 88 columns]"
            ],
            "text/html": [
              "\n",
              "  <div id=\"df-74170e8d-7d81-4556-8635-255f05135f84\" class=\"colab-df-container\">\n",
              "    <div>\n",
              "<style scoped>\n",
              "    .dataframe tbody tr th:only-of-type {\n",
              "        vertical-align: middle;\n",
              "    }\n",
              "\n",
              "    .dataframe tbody tr th {\n",
              "        vertical-align: top;\n",
              "    }\n",
              "\n",
              "    .dataframe thead th {\n",
              "        text-align: right;\n",
              "    }\n",
              "</style>\n",
              "<table border=\"1\" class=\"dataframe\">\n",
              "  <thead>\n",
              "    <tr style=\"text-align: right;\">\n",
              "      <th></th>\n",
              "      <th>PhoneId</th>\n",
              "      <th>Pixel Density</th>\n",
              "      <th>Screen Size</th>\n",
              "      <th>Weight</th>\n",
              "      <th>RAM</th>\n",
              "      <th>Processor_frequency</th>\n",
              "      <th>Screen to Body Ratio (calculated)</th>\n",
              "      <th>Height</th>\n",
              "      <th>Internal Memory</th>\n",
              "      <th>Capacity</th>\n",
              "      <th>...</th>\n",
              "      <th>os_name_Tizen</th>\n",
              "      <th>os_name_iOS</th>\n",
              "      <th>SIM Slot(s)_Dual SIM, GSM+CDMA</th>\n",
              "      <th>SIM Slot(s)_Dual SIM, GSM+GSM</th>\n",
              "      <th>SIM Slot(s)_Dual SIM, GSM+GSM, Dual VoLTE</th>\n",
              "      <th>SIM Slot(s)_Single SIM, GSM</th>\n",
              "      <th>Sim1_2G</th>\n",
              "      <th>Sim1_3G</th>\n",
              "      <th>Sim1_4G</th>\n",
              "      <th>Rating</th>\n",
              "    </tr>\n",
              "  </thead>\n",
              "  <tbody>\n",
              "    <tr>\n",
              "      <th>0</th>\n",
              "      <td>0</td>\n",
              "      <td>403</td>\n",
              "      <td>6.26</td>\n",
              "      <td>182</td>\n",
              "      <td>4</td>\n",
              "      <td>1.8</td>\n",
              "      <td>80.68</td>\n",
              "      <td>157.9</td>\n",
              "      <td>64</td>\n",
              "      <td>4000</td>\n",
              "      <td>...</td>\n",
              "      <td>0</td>\n",
              "      <td>0</td>\n",
              "      <td>0</td>\n",
              "      <td>0</td>\n",
              "      <td>1</td>\n",
              "      <td>0</td>\n",
              "      <td>0</td>\n",
              "      <td>0</td>\n",
              "      <td>1</td>\n",
              "      <td>4.5</td>\n",
              "    </tr>\n",
              "    <tr>\n",
              "      <th>1</th>\n",
              "      <td>1</td>\n",
              "      <td>271</td>\n",
              "      <td>6.20</td>\n",
              "      <td>168</td>\n",
              "      <td>3</td>\n",
              "      <td>1.8</td>\n",
              "      <td>80.85</td>\n",
              "      <td>156.2</td>\n",
              "      <td>32</td>\n",
              "      <td>4230</td>\n",
              "      <td>...</td>\n",
              "      <td>0</td>\n",
              "      <td>0</td>\n",
              "      <td>0</td>\n",
              "      <td>0</td>\n",
              "      <td>1</td>\n",
              "      <td>0</td>\n",
              "      <td>0</td>\n",
              "      <td>0</td>\n",
              "      <td>1</td>\n",
              "      <td>4.5</td>\n",
              "    </tr>\n",
              "    <tr>\n",
              "      <th>2</th>\n",
              "      <td>2</td>\n",
              "      <td>409</td>\n",
              "      <td>6.30</td>\n",
              "      <td>168</td>\n",
              "      <td>3</td>\n",
              "      <td>2.1</td>\n",
              "      <td>83.68</td>\n",
              "      <td>157.0</td>\n",
              "      <td>32</td>\n",
              "      <td>3500</td>\n",
              "      <td>...</td>\n",
              "      <td>0</td>\n",
              "      <td>0</td>\n",
              "      <td>0</td>\n",
              "      <td>0</td>\n",
              "      <td>1</td>\n",
              "      <td>0</td>\n",
              "      <td>0</td>\n",
              "      <td>0</td>\n",
              "      <td>1</td>\n",
              "      <td>4.4</td>\n",
              "    </tr>\n",
              "    <tr>\n",
              "      <th>3</th>\n",
              "      <td>4</td>\n",
              "      <td>411</td>\n",
              "      <td>6.00</td>\n",
              "      <td>169</td>\n",
              "      <td>4</td>\n",
              "      <td>2.2</td>\n",
              "      <td>74.78</td>\n",
              "      <td>159.8</td>\n",
              "      <td>64</td>\n",
              "      <td>3300</td>\n",
              "      <td>...</td>\n",
              "      <td>0</td>\n",
              "      <td>0</td>\n",
              "      <td>0</td>\n",
              "      <td>1</td>\n",
              "      <td>0</td>\n",
              "      <td>0</td>\n",
              "      <td>0</td>\n",
              "      <td>0</td>\n",
              "      <td>1</td>\n",
              "      <td>4.3</td>\n",
              "    </tr>\n",
              "    <tr>\n",
              "      <th>4</th>\n",
              "      <td>5</td>\n",
              "      <td>396</td>\n",
              "      <td>6.50</td>\n",
              "      <td>175</td>\n",
              "      <td>4</td>\n",
              "      <td>2.2</td>\n",
              "      <td>84.23</td>\n",
              "      <td>160.4</td>\n",
              "      <td>64</td>\n",
              "      <td>3750</td>\n",
              "      <td>...</td>\n",
              "      <td>0</td>\n",
              "      <td>0</td>\n",
              "      <td>0</td>\n",
              "      <td>0</td>\n",
              "      <td>1</td>\n",
              "      <td>0</td>\n",
              "      <td>0</td>\n",
              "      <td>0</td>\n",
              "      <td>1</td>\n",
              "      <td>4.4</td>\n",
              "    </tr>\n",
              "  </tbody>\n",
              "</table>\n",
              "<p>5 rows × 88 columns</p>\n",
              "</div>\n",
              "    <div class=\"colab-df-buttons\">\n",
              "\n",
              "  <div class=\"colab-df-container\">\n",
              "    <button class=\"colab-df-convert\" onclick=\"convertToInteractive('df-74170e8d-7d81-4556-8635-255f05135f84')\"\n",
              "            title=\"Convert this dataframe to an interactive table.\"\n",
              "            style=\"display:none;\">\n",
              "\n",
              "  <svg xmlns=\"http://www.w3.org/2000/svg\" height=\"24px\" viewBox=\"0 -960 960 960\">\n",
              "    <path d=\"M120-120v-720h720v720H120Zm60-500h600v-160H180v160Zm220 220h160v-160H400v160Zm0 220h160v-160H400v160ZM180-400h160v-160H180v160Zm440 0h160v-160H620v160ZM180-180h160v-160H180v160Zm440 0h160v-160H620v160Z\"/>\n",
              "  </svg>\n",
              "    </button>\n",
              "\n",
              "  <style>\n",
              "    .colab-df-container {\n",
              "      display:flex;\n",
              "      gap: 12px;\n",
              "    }\n",
              "\n",
              "    .colab-df-convert {\n",
              "      background-color: #E8F0FE;\n",
              "      border: none;\n",
              "      border-radius: 50%;\n",
              "      cursor: pointer;\n",
              "      display: none;\n",
              "      fill: #1967D2;\n",
              "      height: 32px;\n",
              "      padding: 0 0 0 0;\n",
              "      width: 32px;\n",
              "    }\n",
              "\n",
              "    .colab-df-convert:hover {\n",
              "      background-color: #E2EBFA;\n",
              "      box-shadow: 0px 1px 2px rgba(60, 64, 67, 0.3), 0px 1px 3px 1px rgba(60, 64, 67, 0.15);\n",
              "      fill: #174EA6;\n",
              "    }\n",
              "\n",
              "    .colab-df-buttons div {\n",
              "      margin-bottom: 4px;\n",
              "    }\n",
              "\n",
              "    [theme=dark] .colab-df-convert {\n",
              "      background-color: #3B4455;\n",
              "      fill: #D2E3FC;\n",
              "    }\n",
              "\n",
              "    [theme=dark] .colab-df-convert:hover {\n",
              "      background-color: #434B5C;\n",
              "      box-shadow: 0px 1px 3px 1px rgba(0, 0, 0, 0.15);\n",
              "      filter: drop-shadow(0px 1px 2px rgba(0, 0, 0, 0.3));\n",
              "      fill: #FFFFFF;\n",
              "    }\n",
              "  </style>\n",
              "\n",
              "    <script>\n",
              "      const buttonEl =\n",
              "        document.querySelector('#df-74170e8d-7d81-4556-8635-255f05135f84 button.colab-df-convert');\n",
              "      buttonEl.style.display =\n",
              "        google.colab.kernel.accessAllowed ? 'block' : 'none';\n",
              "\n",
              "      async function convertToInteractive(key) {\n",
              "        const element = document.querySelector('#df-74170e8d-7d81-4556-8635-255f05135f84');\n",
              "        const dataTable =\n",
              "          await google.colab.kernel.invokeFunction('convertToInteractive',\n",
              "                                                    [key], {});\n",
              "        if (!dataTable) return;\n",
              "\n",
              "        const docLinkHtml = 'Like what you see? Visit the ' +\n",
              "          '<a target=\"_blank\" href=https://colab.research.google.com/notebooks/data_table.ipynb>data table notebook</a>'\n",
              "          + ' to learn more about interactive tables.';\n",
              "        element.innerHTML = '';\n",
              "        dataTable['output_type'] = 'display_data';\n",
              "        await google.colab.output.renderOutput(dataTable, element);\n",
              "        const docLink = document.createElement('div');\n",
              "        docLink.innerHTML = docLinkHtml;\n",
              "        element.appendChild(docLink);\n",
              "      }\n",
              "    </script>\n",
              "  </div>\n",
              "\n",
              "\n",
              "<div id=\"df-27c4f203-44cd-410a-a066-a0392650516f\">\n",
              "  <button class=\"colab-df-quickchart\" onclick=\"quickchart('df-27c4f203-44cd-410a-a066-a0392650516f')\"\n",
              "            title=\"Suggest charts\"\n",
              "            style=\"display:none;\">\n",
              "\n",
              "<svg xmlns=\"http://www.w3.org/2000/svg\" height=\"24px\"viewBox=\"0 0 24 24\"\n",
              "     width=\"24px\">\n",
              "    <g>\n",
              "        <path d=\"M19 3H5c-1.1 0-2 .9-2 2v14c0 1.1.9 2 2 2h14c1.1 0 2-.9 2-2V5c0-1.1-.9-2-2-2zM9 17H7v-7h2v7zm4 0h-2V7h2v10zm4 0h-2v-4h2v4z\"/>\n",
              "    </g>\n",
              "</svg>\n",
              "  </button>\n",
              "\n",
              "<style>\n",
              "  .colab-df-quickchart {\n",
              "      --bg-color: #E8F0FE;\n",
              "      --fill-color: #1967D2;\n",
              "      --hover-bg-color: #E2EBFA;\n",
              "      --hover-fill-color: #174EA6;\n",
              "      --disabled-fill-color: #AAA;\n",
              "      --disabled-bg-color: #DDD;\n",
              "  }\n",
              "\n",
              "  [theme=dark] .colab-df-quickchart {\n",
              "      --bg-color: #3B4455;\n",
              "      --fill-color: #D2E3FC;\n",
              "      --hover-bg-color: #434B5C;\n",
              "      --hover-fill-color: #FFFFFF;\n",
              "      --disabled-bg-color: #3B4455;\n",
              "      --disabled-fill-color: #666;\n",
              "  }\n",
              "\n",
              "  .colab-df-quickchart {\n",
              "    background-color: var(--bg-color);\n",
              "    border: none;\n",
              "    border-radius: 50%;\n",
              "    cursor: pointer;\n",
              "    display: none;\n",
              "    fill: var(--fill-color);\n",
              "    height: 32px;\n",
              "    padding: 0;\n",
              "    width: 32px;\n",
              "  }\n",
              "\n",
              "  .colab-df-quickchart:hover {\n",
              "    background-color: var(--hover-bg-color);\n",
              "    box-shadow: 0 1px 2px rgba(60, 64, 67, 0.3), 0 1px 3px 1px rgba(60, 64, 67, 0.15);\n",
              "    fill: var(--button-hover-fill-color);\n",
              "  }\n",
              "\n",
              "  .colab-df-quickchart-complete:disabled,\n",
              "  .colab-df-quickchart-complete:disabled:hover {\n",
              "    background-color: var(--disabled-bg-color);\n",
              "    fill: var(--disabled-fill-color);\n",
              "    box-shadow: none;\n",
              "  }\n",
              "\n",
              "  .colab-df-spinner {\n",
              "    border: 2px solid var(--fill-color);\n",
              "    border-color: transparent;\n",
              "    border-bottom-color: var(--fill-color);\n",
              "    animation:\n",
              "      spin 1s steps(1) infinite;\n",
              "  }\n",
              "\n",
              "  @keyframes spin {\n",
              "    0% {\n",
              "      border-color: transparent;\n",
              "      border-bottom-color: var(--fill-color);\n",
              "      border-left-color: var(--fill-color);\n",
              "    }\n",
              "    20% {\n",
              "      border-color: transparent;\n",
              "      border-left-color: var(--fill-color);\n",
              "      border-top-color: var(--fill-color);\n",
              "    }\n",
              "    30% {\n",
              "      border-color: transparent;\n",
              "      border-left-color: var(--fill-color);\n",
              "      border-top-color: var(--fill-color);\n",
              "      border-right-color: var(--fill-color);\n",
              "    }\n",
              "    40% {\n",
              "      border-color: transparent;\n",
              "      border-right-color: var(--fill-color);\n",
              "      border-top-color: var(--fill-color);\n",
              "    }\n",
              "    60% {\n",
              "      border-color: transparent;\n",
              "      border-right-color: var(--fill-color);\n",
              "    }\n",
              "    80% {\n",
              "      border-color: transparent;\n",
              "      border-right-color: var(--fill-color);\n",
              "      border-bottom-color: var(--fill-color);\n",
              "    }\n",
              "    90% {\n",
              "      border-color: transparent;\n",
              "      border-bottom-color: var(--fill-color);\n",
              "    }\n",
              "  }\n",
              "</style>\n",
              "\n",
              "  <script>\n",
              "    async function quickchart(key) {\n",
              "      const quickchartButtonEl =\n",
              "        document.querySelector('#' + key + ' button');\n",
              "      quickchartButtonEl.disabled = true;  // To prevent multiple clicks.\n",
              "      quickchartButtonEl.classList.add('colab-df-spinner');\n",
              "      try {\n",
              "        const charts = await google.colab.kernel.invokeFunction(\n",
              "            'suggestCharts', [key], {});\n",
              "      } catch (error) {\n",
              "        console.error('Error during call to suggestCharts:', error);\n",
              "      }\n",
              "      quickchartButtonEl.classList.remove('colab-df-spinner');\n",
              "      quickchartButtonEl.classList.add('colab-df-quickchart-complete');\n",
              "    }\n",
              "    (() => {\n",
              "      let quickchartButtonEl =\n",
              "        document.querySelector('#df-27c4f203-44cd-410a-a066-a0392650516f button');\n",
              "      quickchartButtonEl.style.display =\n",
              "        google.colab.kernel.accessAllowed ? 'block' : 'none';\n",
              "    })();\n",
              "  </script>\n",
              "</div>\n",
              "\n",
              "    </div>\n",
              "  </div>\n"
            ],
            "application/vnd.google.colaboratory.intrinsic+json": {
              "type": "dataframe",
              "variable_name": "data"
            }
          },
          "metadata": {},
          "execution_count": 84
        }
      ]
    },
    {
      "cell_type": "code",
      "source": [
        "data.shape #to see how many data we have"
      ],
      "metadata": {
        "colab": {
          "base_uri": "https://localhost:8080/"
        },
        "id": "AL0MM66nb1R0",
        "outputId": "583edef7-7dcd-47e0-ee5d-503d698b4757"
      },
      "execution_count": 85,
      "outputs": [
        {
          "output_type": "execute_result",
          "data": {
            "text/plain": [
              "(341, 88)"
            ]
          },
          "metadata": {},
          "execution_count": 85
        }
      ]
    },
    {
      "cell_type": "code",
      "source": [
        "x = data.drop('Rating', axis = 1) #feature matrix(each row contains features) axis = 1 refers to column"
      ],
      "metadata": {
        "id": "O2f4XVt8dpPU"
      },
      "execution_count": 86,
      "outputs": []
    },
    {
      "cell_type": "code",
      "source": [
        "type(x) # x is a pandas dataframe"
      ],
      "metadata": {
        "colab": {
          "base_uri": "https://localhost:8080/",
          "height": 204
        },
        "id": "O8h5xwFffRkU",
        "outputId": "5988867a-8c06-48b7-84da-ee3072a38adb"
      },
      "execution_count": 87,
      "outputs": [
        {
          "output_type": "execute_result",
          "data": {
            "text/plain": [
              "pandas.core.frame.DataFrame"
            ],
            "text/html": [
              "<div style=\"max-width:800px; border: 1px solid var(--colab-border-color);\"><style>\n",
              "      pre.function-repr-contents {\n",
              "        overflow-x: auto;\n",
              "        padding: 8px 12px;\n",
              "        max-height: 500px;\n",
              "      }\n",
              "\n",
              "      pre.function-repr-contents.function-repr-contents-collapsed {\n",
              "        cursor: pointer;\n",
              "        max-height: 100px;\n",
              "      }\n",
              "    </style>\n",
              "    <pre style=\"white-space: initial; background:\n",
              "         var(--colab-secondary-surface-color); padding: 8px 12px;\n",
              "         border-bottom: 1px solid var(--colab-border-color);\"><b>pandas.core.frame.DataFrame</b><br/>def __init__(data=None, index: Axes | None=None, columns: Axes | None=None, dtype: Dtype | None=None, copy: bool | None=None) -&gt; None</pre><pre class=\"function-repr-contents function-repr-contents-collapsed\" style=\"\"><a class=\"filepath\" style=\"display:none\" href=\"#\">/usr/local/lib/python3.10/dist-packages/pandas/core/frame.py</a>Two-dimensional, size-mutable, potentially heterogeneous tabular data.\n",
              "\n",
              "Data structure also contains labeled axes (rows and columns).\n",
              "Arithmetic operations align on both row and column labels. Can be\n",
              "thought of as a dict-like container for Series objects. The primary\n",
              "pandas data structure.\n",
              "\n",
              "Parameters\n",
              "----------\n",
              "data : ndarray (structured or homogeneous), Iterable, dict, or DataFrame\n",
              "    Dict can contain Series, arrays, constants, dataclass or list-like objects. If\n",
              "    data is a dict, column order follows insertion-order. If a dict contains Series\n",
              "    which have an index defined, it is aligned by its index. This alignment also\n",
              "    occurs if data is a Series or a DataFrame itself. Alignment is done on\n",
              "    Series/DataFrame inputs.\n",
              "\n",
              "    If data is a list of dicts, column order follows insertion-order.\n",
              "\n",
              "index : Index or array-like\n",
              "    Index to use for resulting frame. Will default to RangeIndex if\n",
              "    no indexing information part of input data and no index provided.\n",
              "columns : Index or array-like\n",
              "    Column labels to use for resulting frame when data does not have them,\n",
              "    defaulting to RangeIndex(0, 1, 2, ..., n). If data contains column labels,\n",
              "    will perform column selection instead.\n",
              "dtype : dtype, default None\n",
              "    Data type to force. Only a single dtype is allowed. If None, infer.\n",
              "copy : bool or None, default None\n",
              "    Copy data from inputs.\n",
              "    For dict data, the default of None behaves like ``copy=True``.  For DataFrame\n",
              "    or 2d ndarray input, the default of None behaves like ``copy=False``.\n",
              "    If data is a dict containing one or more Series (possibly of different dtypes),\n",
              "    ``copy=False`` will ensure that these inputs are not copied.\n",
              "\n",
              "    .. versionchanged:: 1.3.0\n",
              "\n",
              "See Also\n",
              "--------\n",
              "DataFrame.from_records : Constructor from tuples, also record arrays.\n",
              "DataFrame.from_dict : From dicts of Series, arrays, or dicts.\n",
              "read_csv : Read a comma-separated values (csv) file into DataFrame.\n",
              "read_table : Read general delimited file into DataFrame.\n",
              "read_clipboard : Read text from clipboard into DataFrame.\n",
              "\n",
              "Notes\n",
              "-----\n",
              "Please reference the :ref:`User Guide &lt;basics.dataframe&gt;` for more information.\n",
              "\n",
              "Examples\n",
              "--------\n",
              "Constructing DataFrame from a dictionary.\n",
              "\n",
              "&gt;&gt;&gt; d = {&#x27;col1&#x27;: [1, 2], &#x27;col2&#x27;: [3, 4]}\n",
              "&gt;&gt;&gt; df = pd.DataFrame(data=d)\n",
              "&gt;&gt;&gt; df\n",
              "   col1  col2\n",
              "0     1     3\n",
              "1     2     4\n",
              "\n",
              "Notice that the inferred dtype is int64.\n",
              "\n",
              "&gt;&gt;&gt; df.dtypes\n",
              "col1    int64\n",
              "col2    int64\n",
              "dtype: object\n",
              "\n",
              "To enforce a single dtype:\n",
              "\n",
              "&gt;&gt;&gt; df = pd.DataFrame(data=d, dtype=np.int8)\n",
              "&gt;&gt;&gt; df.dtypes\n",
              "col1    int8\n",
              "col2    int8\n",
              "dtype: object\n",
              "\n",
              "Constructing DataFrame from a dictionary including Series:\n",
              "\n",
              "&gt;&gt;&gt; d = {&#x27;col1&#x27;: [0, 1, 2, 3], &#x27;col2&#x27;: pd.Series([2, 3], index=[2, 3])}\n",
              "&gt;&gt;&gt; pd.DataFrame(data=d, index=[0, 1, 2, 3])\n",
              "   col1  col2\n",
              "0     0   NaN\n",
              "1     1   NaN\n",
              "2     2   2.0\n",
              "3     3   3.0\n",
              "\n",
              "Constructing DataFrame from numpy ndarray:\n",
              "\n",
              "&gt;&gt;&gt; df2 = pd.DataFrame(np.array([[1, 2, 3], [4, 5, 6], [7, 8, 9]]),\n",
              "...                    columns=[&#x27;a&#x27;, &#x27;b&#x27;, &#x27;c&#x27;])\n",
              "&gt;&gt;&gt; df2\n",
              "   a  b  c\n",
              "0  1  2  3\n",
              "1  4  5  6\n",
              "2  7  8  9\n",
              "\n",
              "Constructing DataFrame from a numpy ndarray that has labeled columns:\n",
              "\n",
              "&gt;&gt;&gt; data = np.array([(1, 2, 3), (4, 5, 6), (7, 8, 9)],\n",
              "...                 dtype=[(&quot;a&quot;, &quot;i4&quot;), (&quot;b&quot;, &quot;i4&quot;), (&quot;c&quot;, &quot;i4&quot;)])\n",
              "&gt;&gt;&gt; df3 = pd.DataFrame(data, columns=[&#x27;c&#x27;, &#x27;a&#x27;])\n",
              "...\n",
              "&gt;&gt;&gt; df3\n",
              "   c  a\n",
              "0  3  1\n",
              "1  6  4\n",
              "2  9  7\n",
              "\n",
              "Constructing DataFrame from dataclass:\n",
              "\n",
              "&gt;&gt;&gt; from dataclasses import make_dataclass\n",
              "&gt;&gt;&gt; Point = make_dataclass(&quot;Point&quot;, [(&quot;x&quot;, int), (&quot;y&quot;, int)])\n",
              "&gt;&gt;&gt; pd.DataFrame([Point(0, 0), Point(0, 3), Point(2, 3)])\n",
              "   x  y\n",
              "0  0  0\n",
              "1  0  3\n",
              "2  2  3\n",
              "\n",
              "Constructing DataFrame from Series/DataFrame:\n",
              "\n",
              "&gt;&gt;&gt; ser = pd.Series([1, 2, 3], index=[&quot;a&quot;, &quot;b&quot;, &quot;c&quot;])\n",
              "&gt;&gt;&gt; df = pd.DataFrame(data=ser, index=[&quot;a&quot;, &quot;c&quot;])\n",
              "&gt;&gt;&gt; df\n",
              "   0\n",
              "a  1\n",
              "c  3\n",
              "\n",
              "&gt;&gt;&gt; df1 = pd.DataFrame([1, 2, 3], index=[&quot;a&quot;, &quot;b&quot;, &quot;c&quot;], columns=[&quot;x&quot;])\n",
              "&gt;&gt;&gt; df2 = pd.DataFrame(data=df1, index=[&quot;a&quot;, &quot;c&quot;])\n",
              "&gt;&gt;&gt; df2\n",
              "   x\n",
              "a  1\n",
              "c  3</pre>\n",
              "      <script>\n",
              "      if (google.colab.kernel.accessAllowed && google.colab.files && google.colab.files.view) {\n",
              "        for (const element of document.querySelectorAll('.filepath')) {\n",
              "          element.style.display = 'block'\n",
              "          element.onclick = (event) => {\n",
              "            event.preventDefault();\n",
              "            event.stopPropagation();\n",
              "            google.colab.files.view(element.textContent, 509);\n",
              "          };\n",
              "        }\n",
              "      }\n",
              "      for (const element of document.querySelectorAll('.function-repr-contents')) {\n",
              "        element.onclick = (event) => {\n",
              "          event.preventDefault();\n",
              "          event.stopPropagation();\n",
              "          element.classList.toggle('function-repr-contents-collapsed');\n",
              "        };\n",
              "      }\n",
              "      </script>\n",
              "      </div>"
            ]
          },
          "metadata": {},
          "execution_count": 87
        }
      ]
    },
    {
      "cell_type": "code",
      "source": [
        "y = data['Rating']\n",
        "y = data['Rating'].values #it creates y into a numpy array\n",
        "type(y)\n",
        "y"
      ],
      "metadata": {
        "colab": {
          "base_uri": "https://localhost:8080/"
        },
        "id": "7PiMsPTieqP1",
        "outputId": "a1f080ce-1f5b-408d-9fc1-e55ac692d47b"
      },
      "execution_count": 88,
      "outputs": [
        {
          "output_type": "execute_result",
          "data": {
            "text/plain": [
              "array([4.5, 4.5, 4.4, 4.3, 4.4, 4.5, 4.3, 4.1, 4.3, 4.5, 4.5, 4. , 4.4,\n",
              "       4.4, 4.4, 4.4, 4.5, 4.4, 4.4, 4.4, 4.4, 4.5, 4.4, 4.3, 4.2, 4.3,\n",
              "       4.3, 4.6, 4.4, 4.5, 3.9, 4.2, 4.3, 4.2, 4.3, 4.3, 4.2, 4.4, 4.1,\n",
              "       3.8, 4.4, 4.6, 4.3, 4.5, 4.5, 4.2, 3.9, 4.3, 4. , 4.3, 4.3, 3.9,\n",
              "       4.2, 4.5, 4. , 4.6, 4.2, 2.8, 4.4, 4.3, 4.2, 4.4, 4.4, 4. , 4.4,\n",
              "       4.4, 4.1, 4.5, 4.3, 3.9, 4.3, 4.1, 4.1, 4.2, 3.4, 4.2, 4.6, 3.8,\n",
              "       4.3, 4.5, 4.2, 4.5, 4.5, 4. , 4.1, 4.4, 4.5, 4.1, 4.5, 4.3, 4.5,\n",
              "       3.9, 3.9, 4.4, 4.4, 4.4, 4. , 4.1, 4.1, 4.4, 4.3, 4.3, 4.2, 4.3,\n",
              "       3.4, 4.3, 4.3, 4.2, 4.6, 4.8, 4.4, 3.4, 3.7, 4.2, 4.3, 4.4, 4.3,\n",
              "       4.2, 4.1, 4.3, 4. , 3.9, 4.4, 4.4, 3.9, 3.1, 3.7, 4.2, 4.4, 4. ,\n",
              "       4. , 4.1, 4.2, 4.3, 4.2, 4.3, 4.1, 3.6, 4.1, 4. , 3.8, 3.7, 4.3,\n",
              "       4.1, 4.1, 4.5, 4. , 4.3, 3.6, 4.1, 4.5, 3.5, 4. , 4.3, 4.6, 3.5,\n",
              "       3.9, 4.1, 3.9, 3.8, 4.4, 4.3, 4. , 3.9, 4.4, 4.7, 3.9, 4.5, 3.7,\n",
              "       4. , 4.3, 4.1, 4.8, 4.1, 4. , 4.7, 4. , 4.1, 4. , 3.4, 4.1, 3.9,\n",
              "       3.1, 4.1, 3.7, 3.4, 3.9, 4.3, 4.1, 3.7, 3.8, 4. , 3.8, 4.6, 3.4,\n",
              "       3.3, 3.2, 3.5, 4.3, 4.1, 4. , 3.8, 4.3, 4.1, 4. , 3.8, 3.8, 3.9,\n",
              "       4.1, 3.7, 4.2, 4. , 4.2, 4.4, 4.1, 3.4, 4.2, 4.4, 3.9, 3.9, 4.4,\n",
              "       4.2, 4.5, 4.5, 4.2, 4. , 4.2, 3.5, 3.7, 4.3, 5. , 3.5, 4.4, 3.7,\n",
              "       4.3, 3.9, 4.3, 3.8, 3.8, 4.3, 5. , 4.1, 3. , 4.4, 3. , 4. , 4. ,\n",
              "       3.9, 3.9, 4.2, 2.8, 4.3, 3.3, 4.3, 4. , 4.2, 4.1, 4.2, 3.6, 3.5,\n",
              "       4.1, 4.6, 3.9, 4. , 3.8, 4.1, 2.5, 4.2, 3.7, 3.9, 4.1, 3. , 3.8,\n",
              "       4.6, 4.2, 3.4, 3.9, 4.5, 4.1, 3.3, 4.1, 4. , 3.3, 4.4, 3.8, 3.9,\n",
              "       3.6, 4.4, 4.1, 4.1, 4. , 3.5, 3. , 4.2, 4. , 3.9, 3.5, 3.4, 3.4,\n",
              "       4. , 3.6, 4. , 3.5, 4. , 4. , 3.7, 4.6, 4. , 4.1, 4. , 3.5, 4.1,\n",
              "       3.7, 4.4, 4.3, 4.1, 3.9, 3.4, 3.3, 3.9, 4. , 4.4, 4.5, 4.2, 3.8,\n",
              "       3.7, 4.2, 4.1, 4. , 3.9, 3.7, 4.2, 4. , 3.6, 3.6, 4.4, 3.8, 3.9,\n",
              "       4.1, 3.6, 4.3])"
            ]
          },
          "metadata": {},
          "execution_count": 88
        }
      ]
    },
    {
      "cell_type": "code",
      "source": [
        "threshold = 4.2 #we can see that the rating lies between 3 and 5\n",
        "              #so let us choose the binarising threshold to be 4\n",
        "\n",
        "data['class'] = (data['Rating'] >=threshold).astype(int)"
      ],
      "metadata": {
        "id": "cDJFZdmietvY"
      },
      "execution_count": 89,
      "outputs": []
    },
    {
      "cell_type": "code",
      "source": [
        "data['class']"
      ],
      "metadata": {
        "colab": {
          "base_uri": "https://localhost:8080/",
          "height": 458
        },
        "id": "HfAle0jOhdF5",
        "outputId": "d7f8f51c-8e15-4ad8-f03f-df35a8039a3e"
      },
      "execution_count": 90,
      "outputs": [
        {
          "output_type": "execute_result",
          "data": {
            "text/plain": [
              "0      1\n",
              "1      1\n",
              "2      1\n",
              "3      1\n",
              "4      1\n",
              "      ..\n",
              "336    0\n",
              "337    0\n",
              "338    0\n",
              "339    0\n",
              "340    1\n",
              "Name: class, Length: 341, dtype: int64"
            ],
            "text/html": [
              "<div>\n",
              "<style scoped>\n",
              "    .dataframe tbody tr th:only-of-type {\n",
              "        vertical-align: middle;\n",
              "    }\n",
              "\n",
              "    .dataframe tbody tr th {\n",
              "        vertical-align: top;\n",
              "    }\n",
              "\n",
              "    .dataframe thead th {\n",
              "        text-align: right;\n",
              "    }\n",
              "</style>\n",
              "<table border=\"1\" class=\"dataframe\">\n",
              "  <thead>\n",
              "    <tr style=\"text-align: right;\">\n",
              "      <th></th>\n",
              "      <th>class</th>\n",
              "    </tr>\n",
              "  </thead>\n",
              "  <tbody>\n",
              "    <tr>\n",
              "      <th>0</th>\n",
              "      <td>1</td>\n",
              "    </tr>\n",
              "    <tr>\n",
              "      <th>1</th>\n",
              "      <td>1</td>\n",
              "    </tr>\n",
              "    <tr>\n",
              "      <th>2</th>\n",
              "      <td>1</td>\n",
              "    </tr>\n",
              "    <tr>\n",
              "      <th>3</th>\n",
              "      <td>1</td>\n",
              "    </tr>\n",
              "    <tr>\n",
              "      <th>4</th>\n",
              "      <td>1</td>\n",
              "    </tr>\n",
              "    <tr>\n",
              "      <th>...</th>\n",
              "      <td>...</td>\n",
              "    </tr>\n",
              "    <tr>\n",
              "      <th>336</th>\n",
              "      <td>0</td>\n",
              "    </tr>\n",
              "    <tr>\n",
              "      <th>337</th>\n",
              "      <td>0</td>\n",
              "    </tr>\n",
              "    <tr>\n",
              "      <th>338</th>\n",
              "      <td>0</td>\n",
              "    </tr>\n",
              "    <tr>\n",
              "      <th>339</th>\n",
              "      <td>0</td>\n",
              "    </tr>\n",
              "    <tr>\n",
              "      <th>340</th>\n",
              "      <td>1</td>\n",
              "    </tr>\n",
              "  </tbody>\n",
              "</table>\n",
              "<p>341 rows × 1 columns</p>\n",
              "</div><br><label><b>dtype:</b> int64</label>"
            ]
          },
          "metadata": {},
          "execution_count": 90
        }
      ]
    },
    {
      "cell_type": "code",
      "source": [
        "data['class'].value_counts(normalize = True) #gives percentage of the different values in data['class']\n",
        "                                             #we see that percentage is not uniform so threshold is not\n",
        "                                             #good, so change it from 4 to 4.2, so when we do binary classification\n",
        "                                             #we should take the threshold such that it distribute the data uniformally\n",
        "                                             #between 0 and 1(as we just have ratings, we don't know what rating\n",
        "                                             #implies like or not like)."
      ],
      "metadata": {
        "colab": {
          "base_uri": "https://localhost:8080/",
          "height": 178
        },
        "id": "eZQLvNJBhqIs",
        "outputId": "12011baf-ae39-4ee0-e165-670548f12e88"
      },
      "execution_count": 91,
      "outputs": [
        {
          "output_type": "execute_result",
          "data": {
            "text/plain": [
              "class\n",
              "0    0.533724\n",
              "1    0.466276\n",
              "Name: proportion, dtype: float64"
            ],
            "text/html": [
              "<div>\n",
              "<style scoped>\n",
              "    .dataframe tbody tr th:only-of-type {\n",
              "        vertical-align: middle;\n",
              "    }\n",
              "\n",
              "    .dataframe tbody tr th {\n",
              "        vertical-align: top;\n",
              "    }\n",
              "\n",
              "    .dataframe thead th {\n",
              "        text-align: right;\n",
              "    }\n",
              "</style>\n",
              "<table border=\"1\" class=\"dataframe\">\n",
              "  <thead>\n",
              "    <tr style=\"text-align: right;\">\n",
              "      <th></th>\n",
              "      <th>proportion</th>\n",
              "    </tr>\n",
              "    <tr>\n",
              "      <th>class</th>\n",
              "      <th></th>\n",
              "    </tr>\n",
              "  </thead>\n",
              "  <tbody>\n",
              "    <tr>\n",
              "      <th>0</th>\n",
              "      <td>0.533724</td>\n",
              "    </tr>\n",
              "    <tr>\n",
              "      <th>1</th>\n",
              "      <td>0.466276</td>\n",
              "    </tr>\n",
              "  </tbody>\n",
              "</table>\n",
              "</div><br><label><b>dtype:</b> float64</label>"
            ]
          },
          "metadata": {},
          "execution_count": 91
        }
      ]
    },
    {
      "cell_type": "code",
      "source": [
        "y_binarize = data['class'].values #binarized output\n",
        "print(type(y_binarize))"
      ],
      "metadata": {
        "id": "RNT7CaKwiQmG",
        "colab": {
          "base_uri": "https://localhost:8080/"
        },
        "outputId": "a9f3429e-2760-496e-ea88-974927b8157d"
      },
      "execution_count": 92,
      "outputs": [
        {
          "output_type": "stream",
          "name": "stdout",
          "text": [
            "<class 'numpy.ndarray'>\n"
          ]
        }
      ]
    },
    {
      "cell_type": "markdown",
      "source": [
        "###Data can vary significantly in size from feature to feature, so we should standardise the data so that we get comparable weights, as otherwise the algorithm will not work very effeciently. To avoid this we put two conditions one is that each collumn should have average mean to be 0, and standard deviation to be 1. And this method is called as standardisation."
      ],
      "metadata": {
        "id": "Ej6D1EptlID0"
      }
    },
    {
      "cell_type": "markdown",
      "source": [
        "#Standardisation"
      ],
      "metadata": {
        "id": "kYN-EV72nhCP"
      }
    },
    {
      "cell_type": "code",
      "source": [
        "from sklearn.preprocessing import StandardScaler, MinMaxScaler #it is like a model like perceptron or sigmoid"
      ],
      "metadata": {
        "id": "0f2OFQz7kflc"
      },
      "execution_count": 93,
      "outputs": []
    },
    {
      "cell_type": "code",
      "source": [
        "R = np.random.random([100, 1])"
      ],
      "metadata": {
        "id": "mmXUzcvGpNOz"
      },
      "execution_count": 94,
      "outputs": []
    },
    {
      "cell_type": "code",
      "source": [
        "plt.plot(R)\n",
        "plt.show()"
      ],
      "metadata": {
        "colab": {
          "base_uri": "https://localhost:8080/",
          "height": 430
        },
        "id": "AwvCn4dIpdke",
        "outputId": "8eda6795-7eaa-4058-a062-87eb9933d546"
      },
      "execution_count": 95,
      "outputs": [
        {
          "output_type": "display_data",
          "data": {
            "text/plain": [
              "<Figure size 640x480 with 1 Axes>"
            ],
            "image/png": "[encoded data removed]"
          },
          "metadata": {}
        }
      ]
    },
    {
      "cell_type": "code",
      "source": [
        "np.mean(R)"
      ],
      "metadata": {
        "colab": {
          "base_uri": "https://localhost:8080/"
        },
        "id": "i7Ty4OwIpjQ0",
        "outputId": "d99c5913-9edd-4583-a0ac-fa13eb1df690"
      },
      "execution_count": 96,
      "outputs": [
        {
          "output_type": "execute_result",
          "data": {
            "text/plain": [
              "0.512817835421954"
            ]
          },
          "metadata": {},
          "execution_count": 96
        }
      ]
    },
    {
      "cell_type": "code",
      "source": [
        "np.std(R)"
      ],
      "metadata": {
        "colab": {
          "base_uri": "https://localhost:8080/"
        },
        "id": "Tl4qWKeEppMR",
        "outputId": "5a84b0a4-323c-4f36-90cf-296d532dea38"
      },
      "execution_count": 97,
      "outputs": [
        {
          "output_type": "execute_result",
          "data": {
            "text/plain": [
              "0.28433834891087223"
            ]
          },
          "metadata": {},
          "execution_count": 97
        }
      ]
    },
    {
      "cell_type": "code",
      "source": [
        "scalar = StandardScaler()#creating an instance of standardscalar\n",
        "type(scalar)\n",
        "print(scalar)"
      ],
      "metadata": {
        "colab": {
          "base_uri": "https://localhost:8080/"
        },
        "id": "xfGXq-1Opuyc",
        "outputId": "4e0138eb-8c2c-4689-a688-3742affe29ea"
      },
      "execution_count": 98,
      "outputs": [
        {
          "output_type": "stream",
          "name": "stdout",
          "text": [
            "StandardScaler()\n"
          ]
        }
      ]
    },
    {
      "cell_type": "code",
      "source": [
        "scalar.fit(R) #fitting the points of R, this gives us a model based on the data R, through which we can pass\n",
        "              #different data and standardize that data as done below with R.(Here R works as the training set)"
      ],
      "metadata": {
        "colab": {
          "base_uri": "https://localhost:8080/",
          "height": 80
        },
        "id": "b-CPAwBMqJJX",
        "outputId": "6e76014a-32fe-4ab1-9312-964c2a08363f"
      },
      "execution_count": 99,
      "outputs": [
        {
          "output_type": "execute_result",
          "data": {
            "text/plain": [
              "StandardScaler()"
            ],
            "text/html": [
              "<style>#sk-container-id-2 {\n",
              "  /* Definition of color scheme common for light and dark mode */\n",
              "  --sklearn-color-text: black;\n",
              "  --sklearn-color-line: gray;\n",
              "  /* Definition of color scheme for unfitted estimators */\n",
              "  --sklearn-color-unfitted-level-0: #fff5e6;\n",
              "  --sklearn-color-unfitted-level-1: #f6e4d2;\n",
              "  --sklearn-color-unfitted-level-2: #ffe0b3;\n",
              "  --sklearn-color-unfitted-level-3: chocolate;\n",
              "  /* Definition of color scheme for fitted estimators */\n",
              "  --sklearn-color-fitted-level-0: #f0f8ff;\n",
              "  --sklearn-color-fitted-level-1: #d4ebff;\n",
              "  --sklearn-color-fitted-level-2: #b3dbfd;\n",
              "  --sklearn-color-fitted-level-3: cornflowerblue;\n",
              "\n",
              "  /* Specific color for light theme */\n",
              "  --sklearn-color-text-on-default-background: var(--sg-text-color, var(--theme-code-foreground, var(--jp-content-font-color1, black)));\n",
              "  --sklearn-color-background: var(--sg-background-color, var(--theme-background, var(--jp-layout-color0, white)));\n",
              "  --sklearn-color-border-box: var(--sg-text-color, var(--theme-code-foreground, var(--jp-content-font-color1, black)));\n",
              "  --sklearn-color-icon: #696969;\n",
              "\n",
              "  @media (prefers-color-scheme: dark) {\n",
              "    /* Redefinition of color scheme for dark theme */\n",
              "    --sklearn-color-text-on-default-background: var(--sg-text-color, var(--theme-code-foreground, var(--jp-content-font-color1, white)));\n",
              "    --sklearn-color-background: var(--sg-background-color, var(--theme-background, var(--jp-layout-color0, #111)));\n",
              "    --sklearn-color-border-box: var(--sg-text-color, var(--theme-code-foreground, var(--jp-content-font-color1, white)));\n",
              "    --sklearn-color-icon: #878787;\n",
              "  }\n",
              "}\n",
              "\n",
              "#sk-container-id-2 {\n",
              "  color: var(--sklearn-color-text);\n",
              "}\n",
              "\n",
              "#sk-container-id-2 pre {\n",
              "  padding: 0;\n",
              "}\n",
              "\n",
              "#sk-container-id-2 input.sk-hidden--visually {\n",
              "  border: 0;\n",
              "  clip: rect(1px 1px 1px 1px);\n",
              "  clip: rect(1px, 1px, 1px, 1px);\n",
              "  height: 1px;\n",
              "  margin: -1px;\n",
              "  overflow: hidden;\n",
              "  padding: 0;\n",
              "  position: absolute;\n",
              "  width: 1px;\n",
              "}\n",
              "\n",
              "#sk-container-id-2 div.sk-dashed-wrapped {\n",
              "  border: 1px dashed var(--sklearn-color-line);\n",
              "  margin: 0 0.4em 0.5em 0.4em;\n",
              "  box-sizing: border-box;\n",
              "  padding-bottom: 0.4em;\n",
              "  background-color: var(--sklearn-color-background);\n",
              "}\n",
              "\n",
              "#sk-container-id-2 div.sk-container {\n",
              "  /* jupyter's `normalize.less` sets `[hidden] { display: none; }`\n",
              "     but bootstrap.min.css set `[hidden] { display: none !important; }`\n",
              "     so we also need the `!important` here to be able to override the\n",
              "     default hidden behavior on the sphinx rendered scikit-learn.org.\n",
              "     See: https://github.com/scikit-learn/scikit-learn/issues/21755 */\n",
              "  display: inline-block !important;\n",
              "  position: relative;\n",
              "}\n",
              "\n",
              "#sk-container-id-2 div.sk-text-repr-fallback {\n",
              "  display: none;\n",
              "}\n",
              "\n",
              "div.sk-parallel-item,\n",
              "div.sk-serial,\n",
              "div.sk-item {\n",
              "  /* draw centered vertical line to link estimators */\n",
              "  background-image: linear-gradient(var(--sklearn-color-text-on-default-background), var(--sklearn-color-text-on-default-background));\n",
              "  background-size: 2px 100%;\n",
              "  background-repeat: no-repeat;\n",
              "  background-position: center center;\n",
              "}\n",
              "\n",
              "/* Parallel-specific style estimator block */\n",
              "\n",
              "#sk-container-id-2 div.sk-parallel-item::after {\n",
              "  content: \"\";\n",
              "  width: 100%;\n",
              "  border-bottom: 2px solid var(--sklearn-color-text-on-default-background);\n",
              "  flex-grow: 1;\n",
              "}\n",
              "\n",
              "#sk-container-id-2 div.sk-parallel {\n",
              "  display: flex;\n",
              "  align-items: stretch;\n",
              "  justify-content: center;\n",
              "  background-color: var(--sklearn-color-background);\n",
              "  position: relative;\n",
              "}\n",
              "\n",
              "#sk-container-id-2 div.sk-parallel-item {\n",
              "  display: flex;\n",
              "  flex-direction: column;\n",
              "}\n",
              "\n",
              "#sk-container-id-2 div.sk-parallel-item:first-child::after {\n",
              "  align-self: flex-end;\n",
              "  width: 50%;\n",
              "}\n",
              "\n",
              "#sk-container-id-2 div.sk-parallel-item:last-child::after {\n",
              "  align-self: flex-start;\n",
              "  width: 50%;\n",
              "}\n",
              "\n",
              "#sk-container-id-2 div.sk-parallel-item:only-child::after {\n",
              "  width: 0;\n",
              "}\n",
              "\n",
              "/* Serial-specific style estimator block */\n",
              "\n",
              "#sk-container-id-2 div.sk-serial {\n",
              "  display: flex;\n",
              "  flex-direction: column;\n",
              "  align-items: center;\n",
              "  background-color: var(--sklearn-color-background);\n",
              "  padding-right: 1em;\n",
              "  padding-left: 1em;\n",
              "}\n",
              "\n",
              "\n",
              "/* Toggleable style: style used for estimator/Pipeline/ColumnTransformer box that is\n",
              "clickable and can be expanded/collapsed.\n",
              "- Pipeline and ColumnTransformer use this feature and define the default style\n",
              "- Estimators will overwrite some part of the style using the `sk-estimator` class\n",
              "*/\n",
              "\n",
              "/* Pipeline and ColumnTransformer style (default) */\n",
              "\n",
              "#sk-container-id-2 div.sk-toggleable {\n",
              "  /* Default theme specific background. It is overwritten whether we have a\n",
              "  specific estimator or a Pipeline/ColumnTransformer */\n",
              "  background-color: var(--sklearn-color-background);\n",
              "}\n",
              "\n",
              "/* Toggleable label */\n",
              "#sk-container-id-2 label.sk-toggleable__label {\n",
              "  cursor: pointer;\n",
              "  display: block;\n",
              "  width: 100%;\n",
              "  margin-bottom: 0;\n",
              "  padding: 0.5em;\n",
              "  box-sizing: border-box;\n",
              "  text-align: center;\n",
              "}\n",
              "\n",
              "#sk-container-id-2 label.sk-toggleable__label-arrow:before {\n",
              "  /* Arrow on the left of the label */\n",
              "  content: \"▸\";\n",
              "  float: left;\n",
              "  margin-right: 0.25em;\n",
              "  color: var(--sklearn-color-icon);\n",
              "}\n",
              "\n",
              "#sk-container-id-2 label.sk-toggleable__label-arrow:hover:before {\n",
              "  color: var(--sklearn-color-text);\n",
              "}\n",
              "\n",
              "/* Toggleable content - dropdown */\n",
              "\n",
              "#sk-container-id-2 div.sk-toggleable__content {\n",
              "  max-height: 0;\n",
              "  max-width: 0;\n",
              "  overflow: hidden;\n",
              "  text-align: left;\n",
              "  /* unfitted */\n",
              "  background-color: var(--sklearn-color-unfitted-level-0);\n",
              "}\n",
              "\n",
              "#sk-container-id-2 div.sk-toggleable__content.fitted {\n",
              "  /* fitted */\n",
              "  background-color: var(--sklearn-color-fitted-level-0);\n",
              "}\n",
              "\n",
              "#sk-container-id-2 div.sk-toggleable__content pre {\n",
              "  margin: 0.2em;\n",
              "  border-radius: 0.25em;\n",
              "  color: var(--sklearn-color-text);\n",
              "  /* unfitted */\n",
              "  background-color: var(--sklearn-color-unfitted-level-0);\n",
              "}\n",
              "\n",
              "#sk-container-id-2 div.sk-toggleable__content.fitted pre {\n",
              "  /* unfitted */\n",
              "  background-color: var(--sklearn-color-fitted-level-0);\n",
              "}\n",
              "\n",
              "#sk-container-id-2 input.sk-toggleable__control:checked~div.sk-toggleable__content {\n",
              "  /* Expand drop-down */\n",
              "  max-height: 200px;\n",
              "  max-width: 100%;\n",
              "  overflow: auto;\n",
              "}\n",
              "\n",
              "#sk-container-id-2 input.sk-toggleable__control:checked~label.sk-toggleable__label-arrow:before {\n",
              "  content: \"▾\";\n",
              "}\n",
              "\n",
              "/* Pipeline/ColumnTransformer-specific style */\n",
              "\n",
              "#sk-container-id-2 div.sk-label input.sk-toggleable__control:checked~label.sk-toggleable__label {\n",
              "  color: var(--sklearn-color-text);\n",
              "  background-color: var(--sklearn-color-unfitted-level-2);\n",
              "}\n",
              "\n",
              "#sk-container-id-2 div.sk-label.fitted input.sk-toggleable__control:checked~label.sk-toggleable__label {\n",
              "  background-color: var(--sklearn-color-fitted-level-2);\n",
              "}\n",
              "\n",
              "/* Estimator-specific style */\n",
              "\n",
              "/* Colorize estimator box */\n",
              "#sk-container-id-2 div.sk-estimator input.sk-toggleable__control:checked~label.sk-toggleable__label {\n",
              "  /* unfitted */\n",
              "  background-color: var(--sklearn-color-unfitted-level-2);\n",
              "}\n",
              "\n",
              "#sk-container-id-2 div.sk-estimator.fitted input.sk-toggleable__control:checked~label.sk-toggleable__label {\n",
              "  /* fitted */\n",
              "  background-color: var(--sklearn-color-fitted-level-2);\n",
              "}\n",
              "\n",
              "#sk-container-id-2 div.sk-label label.sk-toggleable__label,\n",
              "#sk-container-id-2 div.sk-label label {\n",
              "  /* The background is the default theme color */\n",
              "  color: var(--sklearn-color-text-on-default-background);\n",
              "}\n",
              "\n",
              "/* On hover, darken the color of the background */\n",
              "#sk-container-id-2 div.sk-label:hover label.sk-toggleable__label {\n",
              "  color: var(--sklearn-color-text);\n",
              "  background-color: var(--sklearn-color-unfitted-level-2);\n",
              "}\n",
              "\n",
              "/* Label box, darken color on hover, fitted */\n",
              "#sk-container-id-2 div.sk-label.fitted:hover label.sk-toggleable__label.fitted {\n",
              "  color: var(--sklearn-color-text);\n",
              "  background-color: var(--sklearn-color-fitted-level-2);\n",
              "}\n",
              "\n",
              "/* Estimator label */\n",
              "\n",
              "#sk-container-id-2 div.sk-label label {\n",
              "  font-family: monospace;\n",
              "  font-weight: bold;\n",
              "  display: inline-block;\n",
              "  line-height: 1.2em;\n",
              "}\n",
              "\n",
              "#sk-container-id-2 div.sk-label-container {\n",
              "  text-align: center;\n",
              "}\n",
              "\n",
              "/* Estimator-specific */\n",
              "#sk-container-id-2 div.sk-estimator {\n",
              "  font-family: monospace;\n",
              "  border: 1px dotted var(--sklearn-color-border-box);\n",
              "  border-radius: 0.25em;\n",
              "  box-sizing: border-box;\n",
              "  margin-bottom: 0.5em;\n",
              "  /* unfitted */\n",
              "  background-color: var(--sklearn-color-unfitted-level-0);\n",
              "}\n",
              "\n",
              "#sk-container-id-2 div.sk-estimator.fitted {\n",
              "  /* fitted */\n",
              "  background-color: var(--sklearn-color-fitted-level-0);\n",
              "}\n",
              "\n",
              "/* on hover */\n",
              "#sk-container-id-2 div.sk-estimator:hover {\n",
              "  /* unfitted */\n",
              "  background-color: var(--sklearn-color-unfitted-level-2);\n",
              "}\n",
              "\n",
              "#sk-container-id-2 div.sk-estimator.fitted:hover {\n",
              "  /* fitted */\n",
              "  background-color: var(--sklearn-color-fitted-level-2);\n",
              "}\n",
              "\n",
              "/* Specification for estimator info (e.g. \"i\" and \"?\") */\n",
              "\n",
              "/* Common style for \"i\" and \"?\" */\n",
              "\n",
              ".sk-estimator-doc-link,\n",
              "a:link.sk-estimator-doc-link,\n",
              "a:visited.sk-estimator-doc-link {\n",
              "  float: right;\n",
              "  font-size: smaller;\n",
              "  line-height: 1em;\n",
              "  font-family: monospace;\n",
              "  background-color: var(--sklearn-color-background);\n",
              "  border-radius: 1em;\n",
              "  height: 1em;\n",
              "  width: 1em;\n",
              "  text-decoration: none !important;\n",
              "  margin-left: 1ex;\n",
              "  /* unfitted */\n",
              "  border: var(--sklearn-color-unfitted-level-1) 1pt solid;\n",
              "  color: var(--sklearn-color-unfitted-level-1);\n",
              "}\n",
              "\n",
              ".sk-estimator-doc-link.fitted,\n",
              "a:link.sk-estimator-doc-link.fitted,\n",
              "a:visited.sk-estimator-doc-link.fitted {\n",
              "  /* fitted */\n",
              "  border: var(--sklearn-color-fitted-level-1) 1pt solid;\n",
              "  color: var(--sklearn-color-fitted-level-1);\n",
              "}\n",
              "\n",
              "/* On hover */\n",
              "div.sk-estimator:hover .sk-estimator-doc-link:hover,\n",
              ".sk-estimator-doc-link:hover,\n",
              "div.sk-label-container:hover .sk-estimator-doc-link:hover,\n",
              ".sk-estimator-doc-link:hover {\n",
              "  /* unfitted */\n",
              "  background-color: var(--sklearn-color-unfitted-level-3);\n",
              "  color: var(--sklearn-color-background);\n",
              "  text-decoration: none;\n",
              "}\n",
              "\n",
              "div.sk-estimator.fitted:hover .sk-estimator-doc-link.fitted:hover,\n",
              ".sk-estimator-doc-link.fitted:hover,\n",
              "div.sk-label-container:hover .sk-estimator-doc-link.fitted:hover,\n",
              ".sk-estimator-doc-link.fitted:hover {\n",
              "  /* fitted */\n",
              "  background-color: var(--sklearn-color-fitted-level-3);\n",
              "  color: var(--sklearn-color-background);\n",
              "  text-decoration: none;\n",
              "}\n",
              "\n",
              "/* Span, style for the box shown on hovering the info icon */\n",
              ".sk-estimator-doc-link span {\n",
              "  display: none;\n",
              "  z-index: 9999;\n",
              "  position: relative;\n",
              "  font-weight: normal;\n",
              "  right: .2ex;\n",
              "  padding: .5ex;\n",
              "  margin: .5ex;\n",
              "  width: min-content;\n",
              "  min-width: 20ex;\n",
              "  max-width: 50ex;\n",
              "  color: var(--sklearn-color-text);\n",
              "  box-shadow: 2pt 2pt 4pt #999;\n",
              "  /* unfitted */\n",
              "  background: var(--sklearn-color-unfitted-level-0);\n",
              "  border: .5pt solid var(--sklearn-color-unfitted-level-3);\n",
              "}\n",
              "\n",
              ".sk-estimator-doc-link.fitted span {\n",
              "  /* fitted */\n",
              "  background: var(--sklearn-color-fitted-level-0);\n",
              "  border: var(--sklearn-color-fitted-level-3);\n",
              "}\n",
              "\n",
              ".sk-estimator-doc-link:hover span {\n",
              "  display: block;\n",
              "}\n",
              "\n",
              "/* \"?\"-specific style due to the `<a>` HTML tag */\n",
              "\n",
              "#sk-container-id-2 a.estimator_doc_link {\n",
              "  float: right;\n",
              "  font-size: 1rem;\n",
              "  line-height: 1em;\n",
              "  font-family: monospace;\n",
              "  background-color: var(--sklearn-color-background);\n",
              "  border-radius: 1rem;\n",
              "  height: 1rem;\n",
              "  width: 1rem;\n",
              "  text-decoration: none;\n",
              "  /* unfitted */\n",
              "  color: var(--sklearn-color-unfitted-level-1);\n",
              "  border: var(--sklearn-color-unfitted-level-1) 1pt solid;\n",
              "}\n",
              "\n",
              "#sk-container-id-2 a.estimator_doc_link.fitted {\n",
              "  /* fitted */\n",
              "  border: var(--sklearn-color-fitted-level-1) 1pt solid;\n",
              "  color: var(--sklearn-color-fitted-level-1);\n",
              "}\n",
              "\n",
              "/* On hover */\n",
              "#sk-container-id-2 a.estimator_doc_link:hover {\n",
              "  /* unfitted */\n",
              "  background-color: var(--sklearn-color-unfitted-level-3);\n",
              "  color: var(--sklearn-color-background);\n",
              "  text-decoration: none;\n",
              "}\n",
              "\n",
              "#sk-container-id-2 a.estimator_doc_link.fitted:hover {\n",
              "  /* fitted */\n",
              "  background-color: var(--sklearn-color-fitted-level-3);\n",
              "}\n",
              "</style><div id=\"sk-container-id-2\" class=\"sk-top-container\"><div class=\"sk-text-repr-fallback\"><pre>StandardScaler()</pre><b>In a Jupyter environment, please rerun this cell to show the HTML representation or trust the notebook. <br />On GitHub, the HTML representation is unable to render, please try loading this page with nbviewer.org.</b></div><div class=\"sk-container\" hidden><div class=\"sk-item\"><div class=\"sk-estimator fitted sk-toggleable\"><input class=\"sk-toggleable__control sk-hidden--visually\" id=\"sk-estimator-id-2\" type=\"checkbox\" checked><label for=\"sk-estimator-id-2\" class=\"sk-toggleable__label fitted sk-toggleable__label-arrow fitted\">&nbsp;&nbsp;StandardScaler<a class=\"sk-estimator-doc-link fitted\" rel=\"noreferrer\" target=\"_blank\" href=\"https://scikit-learn.org/1.5/modules/generated/sklearn.preprocessing.StandardScaler.html\">?<span>Documentation for StandardScaler</span></a><span class=\"sk-estimator-doc-link fitted\">i<span>Fitted</span></span></label><div class=\"sk-toggleable__content fitted\"><pre>StandardScaler()</pre></div> </div></div></div></div>"
            ]
          },
          "metadata": {},
          "execution_count": 99
        }
      ]
    },
    {
      "cell_type": "code",
      "source": [
        "scalar.mean_"
      ],
      "metadata": {
        "colab": {
          "base_uri": "https://localhost:8080/"
        },
        "id": "yywG4Q59qOAi",
        "outputId": "165c19a4-9009-4a15-f8ad-9a356d599dcf"
      },
      "execution_count": 100,
      "outputs": [
        {
          "output_type": "execute_result",
          "data": {
            "text/plain": [
              "array([0.51281784])"
            ]
          },
          "metadata": {},
          "execution_count": 100
        }
      ]
    },
    {
      "cell_type": "code",
      "source": [
        "RT = scalar.transform(R) #we are not directly transforming the data R,\n",
        "                         #rather we are transforming using the fitted data scalar.\n",
        "                         #we are transforming the same data R that we used for fitting\n",
        "                         #and it will give us a data having mean 0 and std 1."
      ],
      "metadata": {
        "id": "EGB-JyvGqT49"
      },
      "execution_count": 101,
      "outputs": []
    },
    {
      "cell_type": "code",
      "source": [
        "np.mean(RT)"
      ],
      "metadata": {
        "colab": {
          "base_uri": "https://localhost:8080/"
        },
        "id": "Nk7J7tmMtZCd",
        "outputId": "00ee4c29-302d-407a-ca36-ba1260aeaeee"
      },
      "execution_count": 102,
      "outputs": [
        {
          "output_type": "execute_result",
          "data": {
            "text/plain": [
              "-3.1530333899354444e-16"
            ]
          },
          "metadata": {},
          "execution_count": 102
        }
      ]
    },
    {
      "cell_type": "code",
      "source": [
        "np.std(RT)"
      ],
      "metadata": {
        "colab": {
          "base_uri": "https://localhost:8080/"
        },
        "id": "B9zwj_fItvF7",
        "outputId": "8717cfed-91f7-4f0c-dd95-d925104bb0b9"
      },
      "execution_count": 103,
      "outputs": [
        {
          "output_type": "execute_result",
          "data": {
            "text/plain": [
              "0.9999999999999999"
            ]
          },
          "metadata": {},
          "execution_count": 103
        }
      ]
    },
    {
      "cell_type": "code",
      "source": [
        "plt.plot(RT)\n",
        "plt.show()"
      ],
      "metadata": {
        "colab": {
          "base_uri": "https://localhost:8080/",
          "height": 430
        },
        "id": "gS1Vg8lqtwuV",
        "outputId": "b8e140ff-ec0a-4017-87fb-8758b6d6a3db"
      },
      "execution_count": 104,
      "outputs": [
        {
          "output_type": "display_data",
          "data": {
            "text/plain": [
              "<Figure size 640x480 with 1 Axes>"
            ],
            "image/png": "[encoded data removed]"
          },
          "metadata": {}
        }
      ]
    },
    {
      "cell_type": "code",
      "source": [
        "x_train, x_test, y_train, y_test = train_test_split(x, y, random_state = 0, stratify = y_binarize)\n",
        "#stratify will make sure that the percentage of 0's and 1's are same in train and the test data"
      ],
      "metadata": {
        "id": "UnUFlD2qt2XZ"
      },
      "execution_count": 105,
      "outputs": []
    },
    {
      "cell_type": "code",
      "source": [
        "print(x_train.shape, x_test.shape, type(x_train))"
      ],
      "metadata": {
        "colab": {
          "base_uri": "https://localhost:8080/"
        },
        "id": "sTnaO4JkwLyp",
        "outputId": "d83d227e-a712-4674-f685-3651da818856"
      },
      "execution_count": 106,
      "outputs": [
        {
          "output_type": "stream",
          "name": "stdout",
          "text": [
            "(255, 87) (86, 87) <class 'pandas.core.frame.DataFrame'>\n"
          ]
        }
      ]
    },
    {
      "cell_type": "markdown",
      "source": [
        "###Now we will standardize the train data using standardscalar fit and then use the same model(standardscalar model) to standardise the test data to test our model."
      ],
      "metadata": {
        "id": "aKmJnM8Gxxrn"
      }
    },
    {
      "cell_type": "code",
      "source": [
        "scalar = StandardScaler()"
      ],
      "metadata": {
        "id": "G1qgGhyxwVfS"
      },
      "execution_count": 107,
      "outputs": []
    },
    {
      "cell_type": "code",
      "source": [
        "scalar = StandardScaler()\n",
        "x_scaled_train = scalar.fit_transform(x_train) #Note here we are fitting and transforming at the same time.\n",
        "x_scaled_test = scalar.transform(x_test) #but here we are using the above fit\n",
        "print(x_scaled_train)"
      ],
      "metadata": {
        "id": "wm3Asw8cysUE",
        "colab": {
          "base_uri": "https://localhost:8080/"
        },
        "outputId": "856a1c3a-a634-4a3e-f753-fa74b5d17c85"
      },
      "execution_count": 108,
      "outputs": [
        {
          "output_type": "stream",
          "name": "stdout",
          "text": [
            "[[ 1.29929126 -0.90185206  0.03173306 ... -0.14142136 -0.15523011\n",
            "   0.21232515]\n",
            " [-1.16225208 -0.86697607  1.03451971 ... -0.14142136 -0.15523011\n",
            "   0.21232515]\n",
            " [ 1.77523922  0.65594214  0.03173306 ... -0.14142136 -0.15523011\n",
            "   0.21232515]\n",
            " ...\n",
            " [ 1.44058831 -0.58796815 -0.66464655 ... -0.14142136 -0.15523011\n",
            "   0.21232515]\n",
            " [-1.42253612  0.50481285  1.54984063 ... -0.14142136 -0.15523011\n",
            "   0.21232515]\n",
            " [ 1.06875397  0.6791928   0.97880934 ... -0.14142136 -0.15523011\n",
            "   0.21232515]]\n"
          ]
        }
      ]
    },
    {
      "cell_type": "code",
      "source": [
        "minmax_scaler = MinMaxScaler() #this is another model for fitting the min and max values(i guess linearly)"
      ],
      "metadata": {
        "id": "g3zitbQPzQ8I"
      },
      "execution_count": 109,
      "outputs": []
    },
    {
      "cell_type": "code",
      "source": [
        "y_scaled_train = minmax_scaler.fit_transform(y_train.reshape(-1, 1)) #it fits and transform y_train in one line\n",
        "                                                                     #Expected 2D array, got 1D array instead:\n",
        "                                                                     #Reshape your data either using array.reshape(-1, 1)\n",
        "                                                                     #if your data has a single feature or array.reshape(1, -1)\n",
        "                                                                     # if it contains a single sample.\n",
        "                                                                     #So we have scaled y_train in the range (0, 1)\n",
        "                                                                     #as sigmoid neuron takes values in (0, 1)"
      ],
      "metadata": {
        "id": "6fdiQ2Ya0ymW"
      },
      "execution_count": 110,
      "outputs": []
    },
    {
      "cell_type": "code",
      "source": [
        "y_scaled_test = minmax_scaler.transform(y_test.reshape(-1, 1))"
      ],
      "metadata": {
        "id": "cMGuTi-11VtS"
      },
      "execution_count": 111,
      "outputs": []
    },
    {
      "cell_type": "code",
      "source": [
        "scaled_threshold = list(minmax_scaler.transform(np.array([threshold]).reshape(-1, 1)))[0][0]#Now as we also want\n",
        "                                                                                #to compute the accuracy\n",
        "                                                                                #using the binary output,\n",
        "                                                                                #so we will binarize the\n",
        "                                                                                #output also, and I think the\n",
        "                                                                                #minmaxscalar does a linear fit\n",
        "                                                                                #so we can directly apply it to\n",
        "                                                                                #get the scaled_threshhold"
      ],
      "metadata": {
        "id": "EObi3R2A28H5"
      },
      "execution_count": 112,
      "outputs": []
    },
    {
      "cell_type": "code",
      "source": [
        "print(scaled_threshold)"
      ],
      "metadata": {
        "colab": {
          "base_uri": "https://localhost:8080/"
        },
        "id": "LsxZHhqP4hHB",
        "outputId": "389c4170-13de-466d-a960-ff79b165826d"
      },
      "execution_count": 113,
      "outputs": [
        {
          "output_type": "stream",
          "name": "stdout",
          "text": [
            "0.6800000000000002\n"
          ]
        }
      ]
    },
    {
      "cell_type": "code",
      "source": [
        "y_binarized_train = (y_scaled_train >= scaled_threshold).astype(int).ravel() #ravel makes it an array"
      ],
      "metadata": {
        "id": "p-1EOeAx4kFp"
      },
      "execution_count": 114,
      "outputs": []
    },
    {
      "cell_type": "code",
      "source": [
        "y_binarized_test = (y_scaled_test >= scaled_threshold).astype(int).ravel()"
      ],
      "metadata": {
        "id": "s5naknz95wVq"
      },
      "execution_count": 115,
      "outputs": []
    },
    {
      "cell_type": "code",
      "source": [
        "y_binarized_test"
      ],
      "metadata": {
        "colab": {
          "base_uri": "https://localhost:8080/"
        },
        "id": "xM6jSjqB5-Av",
        "outputId": "683434e4-ad62-46b7-d59e-3bf7961d47f2"
      },
      "execution_count": 116,
      "outputs": [
        {
          "output_type": "execute_result",
          "data": {
            "text/plain": [
              "array([0, 1, 1, 0, 1, 1, 1, 1, 0, 1, 1, 1, 1, 1, 0, 1, 1, 1, 0, 0, 0, 0,\n",
              "       0, 0, 0, 0, 0, 1, 0, 0, 0, 0, 0, 1, 0, 1, 0, 0, 1, 0, 1, 0, 1, 0,\n",
              "       0, 1, 1, 0, 0, 1, 0, 0, 1, 0, 0, 1, 1, 0, 1, 1, 0, 0, 0, 1, 1, 1,\n",
              "       1, 1, 1, 0, 1, 0, 0, 0, 1, 0, 0, 1, 0, 0, 0, 1, 0, 0, 1, 1])"
            ]
          },
          "metadata": {},
          "execution_count": 116
        }
      ]
    },
    {
      "cell_type": "markdown",
      "source": [
        "#Train on Real Data"
      ],
      "metadata": {
        "id": "xqO7M5dr_hrt"
      }
    },
    {
      "cell_type": "code",
      "source": [
        "sn = Sigmoid_Neuron()\n",
        "print(x_scaled_train.shape, x_test.shape, type(x_scaled_train))\n",
        "# print(x_train(255, 87))"
      ],
      "metadata": {
        "id": "u8qs77o26P-e",
        "colab": {
          "base_uri": "https://localhost:8080/"
        },
        "outputId": "0529dd03-13f8-4844-f66e-2dbdd47241d0"
      },
      "execution_count": 117,
      "outputs": [
        {
          "output_type": "stream",
          "name": "stdout",
          "text": [
            "(255, 87) (86, 87) <class 'numpy.ndarray'>\n"
          ]
        }
      ]
    },
    {
      "cell_type": "code",
      "source": [
        "sn.fit(x_scaled_train, y_scaled_train, epochs = 2000, learning_rate = 0.02, display_loss = True)\n",
        "#We plot these graph to do fine tuning of hyperparameters(which is very important in deep learning)\n",
        "#Initially when we took learning rate = 0.01, the graph was saturating after some iterations\n",
        "#as when we move towards the minima the plot becomes flat, and magnitude of the derivative decreases.\n",
        "#so if we slightly increase the learning rate(say 0.015)then in we can see some more change in the loss\n",
        "#Also note that this loss is different from the accuracy score that we are seeing at last, we expect\n",
        "#this loss to be highly correlated with the accuracy score, but we don't know."
      ],
      "metadata": {
        "colab": {
          "base_uri": "https://localhost:8080/",
          "height": 483,
          "referenced_widgets": [
            "1f74c67d70964e598b25a628a24f24e2",
            "94b5ce7c055940d0b8f2251884df4a46",
            "e57544c342894a59b7951834aac189d6",
            "13476fd12f28480caad0af90f7255160",
            "7fb004727fc74d9db8c23ec06f313a79",
            "8876bbc02d0b49048afa9a71defd2477",
            "6c44da5fd42542aa83f2cc98dacb431f",
            "afb86cc2d19d4829b59b377e0f149419",
            "1323af06a36f40c99edb3c6cfbc24951",
            "522cee30dcc1434dae39d738e4164df1",
            "969ed5b2a9e74728909dc5162d61d352"
          ]
        },
        "id": "_KTbmgGE_qcP",
        "outputId": "e9d05968-f197-4e54-d8bb-91cb4813a22e"
      },
      "execution_count": 118,
      "outputs": [
        {
          "output_type": "display_data",
          "data": {
            "text/plain": [
              "  0%|          | 0/2000 [00:00<?, ?epoch/s]"
            ],
            "application/vnd.jupyter.widget-view+json": {
              "version_major": 2,
              "version_minor": 0,
              "model_id": "1f74c67d70964e598b25a628a24f24e2"
            }
          },
          "metadata": {}
        },
        {
          "output_type": "display_data",
          "data": {
            "text/plain": [
              "<Figure size 640x480 with 1 Axes>"
            ],
            "image/png": "[encoded data removed]"
          },
          "metadata": {}
        }
      ]
    },
    {
      "cell_type": "code",
      "source": [
        "y_pred_train = sn.predict(x_scaled_train)"
      ],
      "metadata": {
        "id": "WqsQuWCdAOLH"
      },
      "execution_count": 119,
      "outputs": []
    },
    {
      "cell_type": "code",
      "source": [
        "y_pred_test = sn.predict(x_scaled_test)"
      ],
      "metadata": {
        "id": "evZnzUUPB32s"
      },
      "execution_count": 120,
      "outputs": []
    },
    {
      "cell_type": "code",
      "source": [
        "y_pred_bin_train = (y_pred_train >= scaled_threshold).astype(int).ravel()\n",
        "y_pred_bin_test = (y_pred_test >= scaled_threshold).astype(int).ravel()"
      ],
      "metadata": {
        "id": "T_P7GZBQB8RB"
      },
      "execution_count": 121,
      "outputs": []
    },
    {
      "cell_type": "code",
      "source": [
        "accuracy_train = accuracy_score(y_binarized_train, y_pred_bin_train)\n",
        "accuracy_test = accuracy_score(y_binarized_test, y_pred_bin_test)"
      ],
      "metadata": {
        "id": "-EULiL2gDS4W"
      },
      "execution_count": 122,
      "outputs": []
    },
    {
      "cell_type": "code",
      "source": [
        "print(\"Train accuracy: \")\n",
        "print(accuracy_train)\n",
        "\n",
        "print(\"Test accuracy: \")\n",
        "print(accuracy_test)"
      ],
      "metadata": {
        "colab": {
          "base_uri": "https://localhost:8080/"
        },
        "id": "Zxl6_rUZEA1J",
        "outputId": "3881174e-67e3-4f67-d546-2a5b4cdec50a"
      },
      "execution_count": 123,
      "outputs": [
        {
          "output_type": "stream",
          "name": "stdout",
          "text": [
            "Train accuracy: \n",
            "0.7215686274509804\n",
            "Test accuracy: \n",
            "0.686046511627907\n"
          ]
        }
      ]
    }
  ]
}